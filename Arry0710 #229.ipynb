{
 "cells": [
  {
   "cell_type": "markdown",
   "metadata": {},
   "source": [
    "# 內容\n",
    "1. dictionary(Counter) 用法\n",
    "2. Counter is an unordered collection\n",
    "3. Boyer–Moore majority vote algorithm(摩爾投票算法)"
   ]
  },
  {
   "cell_type": "markdown",
   "metadata": {},
   "source": [
    "## 229. Majority Element II\n",
    "(Medium)\n",
    "* Given an integer array of size n, find all elements that appear more than ⌊ n/3 ⌋ times.\n",
    "\n",
    "* Note: The algorithm should run in linear time and in O(1) space."
   ]
  },
  {
   "cell_type": "raw",
   "metadata": {},
   "source": [
    "Example 1:\n",
    "Input: [3,2,3]\n",
    "Output: [3]\n",
    "\n",
    "Example 2:\n",
    "Input: [1,1,1,3,3,2,2,2]\n",
    "Output: [1,2]"
   ]
  },
  {
   "cell_type": "code",
   "execution_count": 41,
   "metadata": {},
   "outputs": [
    {
     "data": {
      "text/plain": [
       "Counter({'d': 2, 'e': 1, 'n': 3, 'g': 3, 'j': 1, 'i': 1, 'o': 1})"
      ]
     },
     "execution_count": 41,
     "metadata": {},
     "output_type": "execute_result"
    }
   ],
   "source": [
    "from collections import Counter\n",
    "\n",
    "c = Counter(\"dengjingdong\") \n",
    "c"
   ]
  },
  {
   "cell_type": "code",
   "execution_count": 42,
   "metadata": {},
   "outputs": [
    {
     "name": "stdout",
     "output_type": "stream",
     "text": [
      "最多的三個元素： [('n', 3), ('g', 3), ('d', 2)]\n",
      "d的個數： 2\n",
      "dict_values([2, 1, 3, 3, 1, 1, 1])\n",
      "12\n",
      "['d', 'd', 'e', 'g', 'g', 'g', 'i', 'j', 'n', 'n', 'n', 'o']\n"
     ]
    }
   ],
   "source": [
    "print(\"最多的三個元素：\",c.most_common(3)) #輸出數量最多的元素 \n",
    "print(\"d的個數：\",c['d']) #輸出d的個數 \n",
    "print(c.values()) #輸出字典的value列表 \n",
    "print(sum(c.values())) #輸出總字符數 \n",
    "print(sorted(c.elements())) #將字典中的數據，按字典序排序 "
   ]
  },
  {
   "cell_type": "code",
   "execution_count": 43,
   "metadata": {},
   "outputs": [
    {
     "ename": "TypeError",
     "evalue": "'builtin_function_or_method' object is not iterable",
     "output_type": "error",
     "traceback": [
      "\u001b[1;31m---------------------------------------------------------------------------\u001b[0m",
      "\u001b[1;31mTypeError\u001b[0m                                 Traceback (most recent call last)",
      "\u001b[1;32m<ipython-input-43-b6dde20f4966>\u001b[0m in \u001b[0;36m<module>\u001b[1;34m\u001b[0m\n\u001b[0;32m      1\u001b[0m \u001b[1;31m#print(c.values.max) #AttributeError: 'builtin_function_or_method' object has no attribute 'max'\u001b[0m\u001b[1;33m\u001b[0m\u001b[1;33m\u001b[0m\u001b[1;33m\u001b[0m\u001b[0m\n\u001b[1;32m----> 2\u001b[1;33m \u001b[0mprint\u001b[0m\u001b[1;33m(\u001b[0m\u001b[1;33m[\u001b[0m\u001b[0mi\u001b[0m \u001b[1;32mfor\u001b[0m \u001b[0mi\u001b[0m \u001b[1;32min\u001b[0m \u001b[0mc\u001b[0m\u001b[1;33m.\u001b[0m\u001b[0mvalues\u001b[0m \u001b[1;32mif\u001b[0m \u001b[0mi\u001b[0m \u001b[1;33m>\u001b[0m \u001b[0mlen\u001b[0m\u001b[1;33m(\u001b[0m\u001b[0mc\u001b[0m\u001b[1;33m)\u001b[0m\u001b[1;33m]\u001b[0m\u001b[1;33m)\u001b[0m\u001b[1;33m\u001b[0m\u001b[1;33m\u001b[0m\u001b[0m\n\u001b[0m",
      "\u001b[1;31mTypeError\u001b[0m: 'builtin_function_or_method' object is not iterable"
     ]
    }
   ],
   "source": [
    "#print(c.values.max) #AttributeError: 'builtin_function_or_method' object has no attribute 'max'\n",
    "print([i for i in c.values if i > len(c)])"
   ]
  },
  {
   "cell_type": "code",
   "execution_count": 44,
   "metadata": {},
   "outputs": [
    {
     "data": {
      "text/plain": [
       "<function Counter.values>"
      ]
     },
     "execution_count": 44,
     "metadata": {},
     "output_type": "execute_result"
    }
   ],
   "source": [
    "c.values"
   ]
  },
  {
   "cell_type": "markdown",
   "metadata": {},
   "source": [
    "### 取出item pairs: c.items\n",
    "* 參考: https://qiubite31.github.io/2018/05/26/%E8%AE%93%E6%88%91%E5%80%91%E7%94%A8Counter%E4%BE%86%E8%A8%88%E7%AE%97%E6%95%B8%E9%87%8F/\n",
    "* c = Counter(\"dengjingdong\") \n",
    "* 因為Counter是dict的一個字類別，所以基本上他可以辦到原本dict可以作到的資料轉型，包含透過items()來逐一取出每個pair"
   ]
  },
  {
   "cell_type": "code",
   "execution_count": 63,
   "metadata": {},
   "outputs": [
    {
     "name": "stdout",
     "output_type": "stream",
     "text": [
      "c.items()=dict_items([('d', 2), ('e', 1), ('n', 3), ('g', 3), ('j', 1), ('i', 1), ('o', 1)])\n"
     ]
    }
   ],
   "source": [
    "print('c.items()={}'.format(c.items()))"
   ]
  },
  {
   "cell_type": "code",
   "execution_count": 64,
   "metadata": {},
   "outputs": [
    {
     "name": "stdout",
     "output_type": "stream",
     "text": [
      "dict_keys(['d', 'e', 'n', 'g', 'j', 'i', 'o'])\n",
      "dict_values([2, 1, 3, 3, 1, 1, 1])\n"
     ]
    }
   ],
   "source": [
    "print(c.keys())  # 取出key值\n",
    "\n",
    "print(c.values())  # 取出value值"
   ]
  },
  {
   "cell_type": "markdown",
   "metadata": {},
   "source": [
    "### 有沒有括號，有差"
   ]
  },
  {
   "cell_type": "code",
   "execution_count": 65,
   "metadata": {},
   "outputs": [
    {
     "name": "stdout",
     "output_type": "stream",
     "text": [
      "<built-in method values of Counter object at 0x0000017015502A40>\n",
      "==================================================\n",
      "dict_values([2, 1, 3, 3, 1, 1, 1])\n"
     ]
    }
   ],
   "source": [
    "print(c.values)\n",
    "print(\"=\"*50)\n",
    "print(c.values())"
   ]
  },
  {
   "cell_type": "code",
   "execution_count": 46,
   "metadata": {},
   "outputs": [],
   "source": [
    "ans = []\n",
    "for i in c.values():\n",
    "    if i > len(c):\n",
    "        print(i)"
   ]
  },
  {
   "cell_type": "code",
   "execution_count": 47,
   "metadata": {},
   "outputs": [],
   "source": [
    "#Example 2\n",
    "A = [1,1,1,3,3,2,2,2] # Input\n",
    "#Output: [1,2]"
   ]
  },
  {
   "cell_type": "code",
   "execution_count": 48,
   "metadata": {},
   "outputs": [
    {
     "name": "stdout",
     "output_type": "stream",
     "text": [
      "dict_values([3, 2, 3])\n",
      "3\n",
      "3\n"
     ]
    }
   ],
   "source": [
    "Z = Counter(A)\n",
    "print(Z.values())\n",
    "for i in Z.values():\n",
    "    if i > len(A)/3:\n",
    "        print(i)"
   ]
  },
  {
   "cell_type": "markdown",
   "metadata": {},
   "source": [
    "### A Counter is a dict subclass for counting hashable objects. It is an unordered collection where elements are stored as dictionary keys and their counts are stored as dictionary values."
   ]
  },
  {
   "cell_type": "code",
   "execution_count": 66,
   "metadata": {},
   "outputs": [
    {
     "name": "stdout",
     "output_type": "stream",
     "text": [
      "odict_keys(['would', 'they', 'your'])\n"
     ]
    }
   ],
   "source": [
    "from collections import *\n",
    "class OrderedCounter(Counter, OrderedDict):\n",
    "    pass\n",
    "\n",
    "\n",
    "counterlist = OrderedCounter({'would': 203, 'they': 138, 'your': 134})\n",
    "print(counterlist.keys())"
   ]
  },
  {
   "cell_type": "code",
   "execution_count": 67,
   "metadata": {},
   "outputs": [
    {
     "ename": "AttributeError",
     "evalue": "'int' object has no attribute 'keys'",
     "output_type": "error",
     "traceback": [
      "\u001b[1;31m---------------------------------------------------------------------------\u001b[0m",
      "\u001b[1;31mAttributeError\u001b[0m                            Traceback (most recent call last)",
      "\u001b[1;32m<ipython-input-67-94259ab326db>\u001b[0m in \u001b[0;36m<module>\u001b[1;34m\u001b[0m\n\u001b[0;32m      9\u001b[0m \u001b[1;32mfor\u001b[0m \u001b[0mi\u001b[0m \u001b[1;32min\u001b[0m \u001b[0mZ\u001b[0m\u001b[1;33m.\u001b[0m\u001b[0mvalues\u001b[0m\u001b[1;33m(\u001b[0m\u001b[1;33m)\u001b[0m\u001b[1;33m:\u001b[0m\u001b[1;33m\u001b[0m\u001b[1;33m\u001b[0m\u001b[0m\n\u001b[0;32m     10\u001b[0m     \u001b[1;32mif\u001b[0m \u001b[0mi\u001b[0m \u001b[1;33m>\u001b[0m \u001b[0mlen\u001b[0m\u001b[1;33m(\u001b[0m\u001b[0mA\u001b[0m\u001b[1;33m)\u001b[0m\u001b[1;33m/\u001b[0m\u001b[1;36m3\u001b[0m\u001b[1;33m:\u001b[0m\u001b[1;33m\u001b[0m\u001b[1;33m\u001b[0m\u001b[0m\n\u001b[1;32m---> 11\u001b[1;33m         \u001b[0mprint\u001b[0m\u001b[1;33m(\u001b[0m\u001b[0mi\u001b[0m\u001b[1;33m.\u001b[0m\u001b[0mkeys\u001b[0m\u001b[1;33m(\u001b[0m\u001b[1;33m)\u001b[0m\u001b[1;33m)\u001b[0m\u001b[1;33m\u001b[0m\u001b[1;33m\u001b[0m\u001b[0m\n\u001b[0m",
      "\u001b[1;31mAttributeError\u001b[0m: 'int' object has no attribute 'keys'"
     ]
    }
   ],
   "source": [
    "from collections import *\n",
    "\n",
    "class OrderedCounter(Counter, OrderedDict):\n",
    "    pass\n",
    "\n",
    "counterlist = OrderedCounter(A)\n",
    "Z = Counter(A)\n",
    "\n",
    "for i in Z.values():\n",
    "    if i > len(A)/3:\n",
    "        print(i.keys())"
   ]
  },
  {
   "cell_type": "markdown",
   "metadata": {},
   "source": [
    "## 法一\n",
    "### 數據結構Counter\n",
    "* Counter也是dict的一個子類別"
   ]
  },
  {
   "cell_type": "code",
   "execution_count": 60,
   "metadata": {},
   "outputs": [],
   "source": [
    "def majorityElement(nums):\n",
    "    \"\"\"\n",
    "    :type nums: List[int]\n",
    "    :rtype: List[int]\n",
    "    \"\"\"\n",
    "    dict_t = Counter(nums)\n",
    "    print('dict_t={}'.format(dict_t))\n",
    "    n = len(nums) / 3\n",
    "    ans = []\n",
    "    for key, val in dict_t.items():\n",
    "        print('dict_t.items()={}'.format(dict_t.items()))\n",
    "        if val > n:\n",
    "            ans.append(key)\n",
    "    return ans"
   ]
  },
  {
   "cell_type": "code",
   "execution_count": 68,
   "metadata": {},
   "outputs": [
    {
     "name": "stdout",
     "output_type": "stream",
     "text": [
      "dict_t=Counter({3: 2, 2: 1})\n",
      "dict_t.items()=dict_items([(3, 2), (2, 1)])\n",
      "dict_t.items()=dict_items([(3, 2), (2, 1)])\n",
      "[3]\n",
      "==================================================\n",
      "dict_t=Counter({1: 3, 2: 3, 3: 2})\n",
      "dict_t.items()=dict_items([(1, 3), (3, 2), (2, 3)])\n",
      "dict_t.items()=dict_items([(1, 3), (3, 2), (2, 3)])\n",
      "dict_t.items()=dict_items([(1, 3), (3, 2), (2, 3)])\n",
      "[1, 2]\n"
     ]
    }
   ],
   "source": [
    "# TEST\n",
    "# Example 1\n",
    "print(majorityElement([3,2,3]))\n",
    "# Output: [3]\n",
    "print('='*50)\n",
    "# Example 2\n",
    "print(majorityElement([1,1,1,3,3,2,2,2]))\n",
    "# Output: [1,2]"
   ]
  },
  {
   "cell_type": "raw",
   "metadata": {},
   "source": [
    "Runtime: 112 ms, faster than 97.87% of Python3 online submissions for Majority Element II.\n",
    "Memory Usage: 14.8 MB, less than 88.37% of Python3 online submissions for Majority Element II."
   ]
  },
  {
   "cell_type": "markdown",
   "metadata": {},
   "source": [
    "## 法二\n",
    "### Boyer–Moore majority vote algorithm(摩爾投票算法)\n",
    "* 參考: https://leetcode.com/problems/majority-element-ii/discuss/63520/boyer-moore-majority-vote-algorithm-and-my-elaboration\n",
    "* 算法的核心在於: 刪去一個數列中的兩個不同的數字，不會影響該數列的majority element。"
   ]
  },
  {
   "cell_type": "code",
   "execution_count": 73,
   "metadata": {},
   "outputs": [],
   "source": [
    "# @param {integer[]} nums\n",
    "# @return {integer[]}\n",
    "\n",
    "def majorityElement(nums):\n",
    "    if not nums:\n",
    "        return []\n",
    "    count1, count2, candidate1, candidate2 = 0, 0, 0, 1\n",
    "    for n in nums:\n",
    "        if n == candidate1:\n",
    "            count1 += 1\n",
    "        elif n == candidate2:\n",
    "            count2 += 1\n",
    "        elif count1 == 0:\n",
    "            candidate1, count1 = n, 1\n",
    "        elif count2 == 0:\n",
    "            candidate2, count2 = n, 1\n",
    "        else:\n",
    "            count1, count2 = count1 - 1, count2 - 1\n",
    "    return [n for n in (candidate1, candidate2)\n",
    "                    if nums.count(n) > len(nums) // 3]"
   ]
  },
  {
   "cell_type": "code",
   "execution_count": null,
   "metadata": {},
   "outputs": [],
   "source": [
    "Runtime: 120 ms, faster than 86.84% of Python3 online submissions for Majority Element II.\n",
    "Memory Usage: 15 MB, less than 30.23% of Python3 online submissions for Majority Element II."
   ]
  },
  {
   "cell_type": "markdown",
   "metadata": {},
   "source": [
    "* 參考: https://ithelp.ithome.com.tw/articles/10213286"
   ]
  },
  {
   "cell_type": "code",
   "execution_count": 92,
   "metadata": {},
   "outputs": [],
   "source": [
    "def majorityElement(nums):\n",
    "    if not nums:\n",
    "        return []\n",
    "    n1, n2, cnt1, cnt2 = 0, 1, 0, 0\n",
    "    for num in nums:\n",
    "        if num == n1:\n",
    "            cnt1 += 1\n",
    "        elif num == n2:\n",
    "            cnt2 += 1\n",
    "        elif cnt1 == 0:\n",
    "            n1 = num\n",
    "            cnt1 = 1\n",
    "        elif cnt2 == 0:\n",
    "            n2 = num\n",
    "            cnt2 = 1\n",
    "        else:\n",
    "            cnt1 -= 1\n",
    "            cnt2 -= 1\n",
    "\n",
    "    cnt1, cnt2 = 0, 0\n",
    "\n",
    "    for num in nums:\n",
    "        if num == n1:\n",
    "            cnt1 += 1\n",
    "        elif num == n2:\n",
    "            cnt2 += 1\n",
    "\n",
    "    res, l = [], len(nums)\n",
    "    if cnt1 > l // 3:\n",
    "        res.append(n1)\n",
    "    if cnt2 > l // 3:\n",
    "        res.append(n2)\n",
    "\n",
    "    return res        "
   ]
  },
  {
   "cell_type": "raw",
   "metadata": {},
   "source": [
    "Runtime: 124 ms, faster than 75.11% of Python3 online submissions for Majority Element II.\n",
    "Memory Usage: 15 MB, less than 26.74% of Python3 online submissions for Majority Element II."
   ]
  },
  {
   "cell_type": "code",
   "execution_count": 93,
   "metadata": {},
   "outputs": [
    {
     "name": "stdout",
     "output_type": "stream",
     "text": [
      "[3]\n",
      "==================================================\n",
      "[2, 1]\n"
     ]
    }
   ],
   "source": [
    "# TEST\n",
    "# Example 1\n",
    "print(majorityElement([3,2,3]))\n",
    "# Output: [3]\n",
    "print('='*50)\n",
    "# Example 2\n",
    "print(majorityElement([1,1,1,3,3,2,2,2]))\n",
    "# Output: [1,2]"
   ]
  },
  {
   "cell_type": "code",
   "execution_count": null,
   "metadata": {},
   "outputs": [],
   "source": []
  }
 ],
 "metadata": {
  "kernelspec": {
   "display_name": "Python 3",
   "language": "python",
   "name": "python3"
  },
  "language_info": {
   "codemirror_mode": {
    "name": "ipython",
    "version": 3
   },
   "file_extension": ".py",
   "mimetype": "text/x-python",
   "name": "python",
   "nbconvert_exporter": "python",
   "pygments_lexer": "ipython3",
   "version": "3.7.3"
  }
 },
 "nbformat": 4,
 "nbformat_minor": 4
}
