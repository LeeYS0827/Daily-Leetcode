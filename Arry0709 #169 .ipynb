{
 "cells": [
  {
   "cell_type": "markdown",
   "metadata": {},
   "source": [
    "# 內容\n",
    "1. 字典中找最大/最小值所對應的key\n",
    "2. Counter() #　參考0701\n",
    "3. Boyer–Moore majority vote algorithm(摩爾投票算法)\n",
    "4. (Not yet)Harshmap\n",
    "5. //:　回傳商數"
   ]
  },
  {
   "cell_type": "markdown",
   "metadata": {},
   "source": [
    "## 169. Majority Element\n",
    "(Easy)\n",
    "* Given an array of size n, find the majority element. The majority element is the element that appears more than ⌊ n/2 ⌋ times.\n",
    "\n",
    "* You may assume that the array is non-empty and the majority element always exist in the array.\n",
    "\n",
    "[中文]\n",
    "題目給定了一個長度為n的陣列，\n",
    "已知當中有一個majority element(佔大多數的元素)，\n",
    "這個數的個數會多過於⌊ n/2 ⌋。\n",
    "(此符號代表向下取整數，如⌊ 5/2 ⌋=2。\n",
    "別忘了是more than，所以如果n是5的話，\n",
    "代表majority element至少要有3個)"
   ]
  },
  {
   "cell_type": "raw",
   "metadata": {},
   "source": [
    "Example 1:\n",
    "Input: [3,2,3]\n",
    "Output: 3\n",
    "\n",
    "Example 2:\n",
    "Input: [2,2,1,1,1,2,2]\n",
    "Output: 2"
   ]
  },
  {
   "cell_type": "markdown",
   "metadata": {},
   "source": [
    "## Mine: Harshmap"
   ]
  },
  {
   "cell_type": "code",
   "execution_count": 1,
   "metadata": {},
   "outputs": [
    {
     "data": {
      "text/plain": [
       "'[3, 2, 3]'"
      ]
     },
     "execution_count": 1,
     "metadata": {},
     "output_type": "execute_result"
    }
   ],
   "source": [
    "A =  [3,2,3]\n",
    "str(A)"
   ]
  },
  {
   "cell_type": "code",
   "execution_count": 2,
   "metadata": {},
   "outputs": [
    {
     "data": {
      "text/plain": [
       "Counter({3: 2, 2: 1})"
      ]
     },
     "execution_count": 2,
     "metadata": {},
     "output_type": "execute_result"
    }
   ],
   "source": [
    "from collections import Counter\n",
    "Counter(A)"
   ]
  },
  {
   "cell_type": "code",
   "execution_count": 3,
   "metadata": {},
   "outputs": [],
   "source": [
    "?Counter"
   ]
  },
  {
   "cell_type": "markdown",
   "metadata": {},
   "source": [
    "### 字典中找最大/最小值所對應的key\n",
    "* 參考: https://blog.csdn.net/weixin_41770169/article/details/80816886"
   ]
  },
  {
   "cell_type": "raw",
   "metadata": {},
   "source": [
    "dogdistance = {'dog-dog': 33, 'dog-cat': 36, 'dog-car': 41, 'dog-bird': 42}\n",
    "\n",
    "min(dogdistance, key=dogdistance.get)\n",
    "#返回最小值的键值：'dog-dog'\n",
    "\n",
    "max(dogdistance, key=dogdistance.get)\n",
    "#返回最大值的键值："
   ]
  },
  {
   "cell_type": "code",
   "execution_count": 6,
   "metadata": {},
   "outputs": [
    {
     "name": "stdout",
     "output_type": "stream",
     "text": [
      "3\n"
     ]
    }
   ],
   "source": [
    "# try\n",
    "a = Counter(A)# 字典\n",
    "ans = max(a, key=a.get) \n",
    "print(ans)"
   ]
  },
  {
   "cell_type": "code",
   "execution_count": 8,
   "metadata": {},
   "outputs": [
    {
     "name": "stdout",
     "output_type": "stream",
     "text": [
      "Object `get` not found.\n"
     ]
    }
   ],
   "source": [
    "?get"
   ]
  },
  {
   "cell_type": "code",
   "execution_count": 11,
   "metadata": {},
   "outputs": [],
   "source": [
    "# nums: List[int]\n",
    "def majorityElement(nums):\n",
    "    a = Counter(nums)# dictionary，其key-value: 每個元素-其所出現的次數\n",
    "    ans = max(a, key=a.get)\n",
    "    return ans"
   ]
  },
  {
   "cell_type": "code",
   "execution_count": 12,
   "metadata": {},
   "outputs": [
    {
     "data": {
      "text/plain": [
       "3"
      ]
     },
     "execution_count": 12,
     "metadata": {},
     "output_type": "execute_result"
    }
   ],
   "source": [
    "# Test\n",
    "# Example 1:\n",
    "# Input: [3,2,3]\n",
    "# Output: 3\n",
    "majorityElement([3,2,3])"
   ]
  },
  {
   "cell_type": "code",
   "execution_count": 13,
   "metadata": {},
   "outputs": [
    {
     "data": {
      "text/plain": [
       "2"
      ]
     },
     "execution_count": 13,
     "metadata": {},
     "output_type": "execute_result"
    }
   ],
   "source": [
    "# Test\n",
    "# Example 2:\n",
    "# Input: [2,2,1,1,1,2,2]\n",
    "# Output: 2\n",
    "majorityElement([2,2,1,1,1,2,2])"
   ]
  },
  {
   "cell_type": "raw",
   "metadata": {},
   "source": [
    "Runtime: 160 ms, faster than 98.82% of Python3 online submissions for Majority Element.\n",
    "    \n",
    "Memory Usage: 15 MB, less than 97.64% of Python3 online submissions for Majority Element."
   ]
  },
  {
   "cell_type": "markdown",
   "metadata": {},
   "source": [
    "## Harshmap另解\n",
    "* 參考: https://leetcode.com/problems/majority-element/solution/\n",
    "* We know that the majority element occurs more than [n/2⌋ times, and a HashMap allows us to count element occurrences efficiently.\n",
    "\n",
    "* Use a HashMap that maps elements to counts in order to count occurrences in linear time by looping over nums. Then, we simply return the key with maximum value."
   ]
  },
  {
   "cell_type": "code",
   "execution_count": 47,
   "metadata": {},
   "outputs": [],
   "source": [
    "import collections\n",
    "from collections import Counter\n",
    "\n",
    "def majorityElement(nums):\n",
    "    counts = collections.Counter(nums)\n",
    "    return max(counts.keys(), key=counts.get)"
   ]
  },
  {
   "cell_type": "code",
   "execution_count": 48,
   "metadata": {},
   "outputs": [
    {
     "name": "stdout",
     "output_type": "stream",
     "text": [
      "3\n",
      "**************************************************\n",
      "2\n"
     ]
    }
   ],
   "source": [
    "print(majorityElement([3,2,3]))\n",
    "print('*'*50)\n",
    "print(majorityElement([2,2,1,1,1,2,2]))"
   ]
  },
  {
   "cell_type": "raw",
   "metadata": {},
   "source": [
    "Runtime: 300 ms, faster than 9.04% of Python3 online submissions for Majority Element.\n",
    "    \n",
    "Memory Usage: 15.3 MB, less than 17.29% of Python3 online submissions for Majority Element."
   ]
  },
  {
   "cell_type": "markdown",
   "metadata": {},
   "source": [
    "## 法一\n",
    "* 參考: https://ithelp.ithome.com.tw/articles/10213285\n",
    "* 思路: \n",
    "1. 直覺可能會想使用Python dict，將每個數塞入字典中，最後找最大的那個數就是了。這麼做的**時間複雜度為O(n)，空間複雜度亦為O(n)**，因為插入耗費的時間為O(1)，插入n個數即為O(n)，同時，我們只能保證最多有n - ⌊ n/2 ⌋的不同種類的數，所以空間上還是保持在O(n)的複雜度。\n",
    "2. 比較節省空間的做法呢？ **Boyer–Moore majority vote algorithm(摩爾投票算法)**\n",
    "    * 核心想法:刪去一個數列中的兩個不同的數字，不會影響該數列的majority element。\n",
    "    \n",
    "### 面試\n",
    "* 時間/空間複雜度？」\n",
    "    * (O(n), O(1)，除了一些變數以外我們沒有使用到額外的空間)"
   ]
  },
  {
   "cell_type": "code",
   "execution_count": 22,
   "metadata": {},
   "outputs": [],
   "source": [
    "def majorityElement(nums):\n",
    "    # 取出第一個數放到一個暫存的變數(res)\n",
    "    # 將計數器(cnt)設定為1，代表這個數出現1次。\n",
    "    res, cnt, l = nums[0], 1, len(nums)\n",
    "    \n",
    "    # 取出下一個數nums[i]，如果和res相等，則將計數器+1\n",
    "    for i in range(1, l):\n",
    "        if res == nums[i]:\n",
    "            cnt += 1\n",
    "        \n",
    "        # 如果和res不同，且計數器>0時，將計數器-1\n",
    "        # 代表取這兩個數成對移除\n",
    "        elif cnt > 0:\n",
    "            cnt -= 1\n",
    "            \n",
    "        # 如果和res不同但是計數器=0時，將res更改為nums[i]並將計數器+1\n",
    "        # 代表res已經用完了，現在還沒被移除的是nums[i]\n",
    "        else:\n",
    "            res = nums[i]\n",
    "            cnt += 1\n",
    "        # 反覆進行步驟2直到陣列結尾，剩下的res即為答案。\n",
    "        # 因為兩兩移除到最後一定是非majority element的先被移光\n",
    "    return res\n",
    "        "
   ]
  },
  {
   "cell_type": "code",
   "execution_count": 24,
   "metadata": {},
   "outputs": [
    {
     "data": {
      "text/plain": [
       "3"
      ]
     },
     "execution_count": 24,
     "metadata": {},
     "output_type": "execute_result"
    }
   ],
   "source": [
    "# Test\n",
    "# Example 1:\n",
    "# Input: [3,2,3]\n",
    "# Output: 3\n",
    "majorityElement([3,2,3])"
   ]
  },
  {
   "cell_type": "code",
   "execution_count": 23,
   "metadata": {},
   "outputs": [
    {
     "data": {
      "text/plain": [
       "2"
      ]
     },
     "execution_count": 23,
     "metadata": {},
     "output_type": "execute_result"
    }
   ],
   "source": [
    "# Test\n",
    "# Example 2:\n",
    "# Input: [2,2,1,1,1,2,2]\n",
    "# Output: 2\n",
    "majorityElement([2,2,1,1,1,2,2])"
   ]
  },
  {
   "cell_type": "raw",
   "metadata": {},
   "source": [
    "Runtime: 184 ms, faster than 52.29% of Python3 online submissions for Majority Element.\n",
    "    \n",
    "Memory Usage: 15.3 MB, less than 16.08% of Python3 online submissions for Majority Element."
   ]
  },
  {
   "cell_type": "raw",
   "metadata": {},
   "source": [
    "Time complexity : O(n)\n",
    "We iterate over nums once and make a constant time HashMap insertion on each iteration. Therefore, the algorithm runs in O(n)O(n) time.\n",
    "\n",
    "Space complexity : O(n)"
   ]
  },
  {
   "cell_type": "markdown",
   "metadata": {},
   "source": [
    "## 法二\n",
    "(與法一類似)\n",
    "* 參考: https://leetcode.com/problems/majority-element/discuss/177148/Python-solution\n",
    "* 思路: **Boyer Moore voting algorithm**"
   ]
  },
  {
   "cell_type": "markdown",
   "metadata": {},
   "source": [
    "## ??"
   ]
  },
  {
   "cell_type": "code",
   "execution_count": 25,
   "metadata": {},
   "outputs": [],
   "source": [
    "def majorityElement(nums):\n",
    "    \"\"\"\n",
    "    :type nums: List[int]\n",
    "    :rtype: int\n",
    "    \"\"\"\n",
    "    count = 0\n",
    "    for num in nums:\n",
    "        print(num)\n",
    "        if count == 0:\n",
    "            candidate = num\n",
    "        \n",
    "        # ???\n",
    "        count += (1 if num == candidate else -1)\n",
    "        print(count)\n",
    "        print('*'*50)\n",
    "    return candidate"
   ]
  },
  {
   "cell_type": "code",
   "execution_count": 26,
   "metadata": {},
   "outputs": [
    {
     "name": "stdout",
     "output_type": "stream",
     "text": [
      "3\n",
      "1\n",
      "**************************************************\n",
      "2\n",
      "0\n",
      "**************************************************\n",
      "3\n",
      "1\n",
      "**************************************************\n"
     ]
    },
    {
     "data": {
      "text/plain": [
       "3"
      ]
     },
     "execution_count": 26,
     "metadata": {},
     "output_type": "execute_result"
    }
   ],
   "source": [
    "# Test\n",
    "# Example 1:\n",
    "# Input: [3,2,3]\n",
    "# Output: 3\n",
    "majorityElement([3,2,3])"
   ]
  },
  {
   "cell_type": "raw",
   "metadata": {},
   "source": [
    "Runtime: 228 ms, faster than 25.29% of Python3 online submissions for Majority Element.\n",
    "    \n",
    "Memory Usage: 15.2 MB, less than 59.23% of Python3 online submissions for Majority Element."
   ]
  },
  {
   "cell_type": "markdown",
   "metadata": {},
   "source": [
    "## 法三: Brute Force暴力法\n",
    "* 參考\n",
    "* 思路:\n",
    "    * 通過檢查每個元素是否為多數元素，可以在二次時間內用盡搜索空間。\n",
    "    * 該算法對數組進行迭代，然後針對每個數字再次迭代以計算其出現次數。一旦發現一個數字比其他任何數字都可能出現的數字多，就將其返回。"
   ]
  },
  {
   "cell_type": "markdown",
   "metadata": {},
   "source": [
    "### //:　回傳商數"
   ]
  },
  {
   "cell_type": "code",
   "execution_count": 38,
   "metadata": {},
   "outputs": [
    {
     "name": "stdout",
     "output_type": "stream",
     "text": [
      "4\n",
      "3\n"
     ]
    }
   ],
   "source": [
    "nums = 9\n",
    "print(nums//2)\n",
    "\n",
    "trytry = 7\n",
    "print(trytry//2)"
   ]
  },
  {
   "cell_type": "code",
   "execution_count": 40,
   "metadata": {},
   "outputs": [],
   "source": [
    "# nums: List[int]\n",
    "\n",
    "def majorityElement(nums):\n",
    "    major_count = len(nums)//2\n",
    "    for num in nums:\n",
    "        count = sum(1 for elem in nums if elem == num)\n",
    "        if count > major_count:\n",
    "            return num"
   ]
  },
  {
   "cell_type": "code",
   "execution_count": 41,
   "metadata": {},
   "outputs": [
    {
     "name": "stdout",
     "output_type": "stream",
     "text": [
      "3\n",
      "**************************************************\n",
      "2\n"
     ]
    }
   ],
   "source": [
    "# Test\n",
    "# Example 1:\n",
    "# Input: [3,2,3]\n",
    "# Output: 3\n",
    "print(majorityElement([3,2,3]))\n",
    "print('*'*50)\n",
    "print(majorityElement([2,2,1,1,1,2,2]))"
   ]
  },
  {
   "cell_type": "raw",
   "metadata": {},
   "source": [
    "Time Limit Exceeded"
   ]
  },
  {
   "cell_type": "raw",
   "metadata": {},
   "source": [
    "Complexity Analysis\n",
    "\n",
    "Time complexity : O(n^2)\n",
    "The brute force algorithm contains two nested for loops that each run for nn iterations, adding up to quadratic time complexity.\n",
    "\n",
    "Space complexity : O(1)\n",
    "The brute force solution does not allocate additional space proportional to the input size."
   ]
  },
  {
   "cell_type": "code",
   "execution_count": null,
   "metadata": {},
   "outputs": [],
   "source": []
  }
 ],
 "metadata": {
  "kernelspec": {
   "display_name": "Python 3",
   "language": "python",
   "name": "python3"
  },
  "language_info": {
   "codemirror_mode": {
    "name": "ipython",
    "version": 3
   },
   "file_extension": ".py",
   "mimetype": "text/x-python",
   "name": "python",
   "nbconvert_exporter": "python",
   "pygments_lexer": "ipython3",
   "version": "3.7.3"
  }
 },
 "nbformat": 4,
 "nbformat_minor": 4
}
