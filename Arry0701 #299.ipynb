{
 "cells": [
  {
   "cell_type": "markdown",
   "metadata": {},
   "source": [
    "# 內容\n",
    "1. Leetcode(Array): 299. Bulls and Cows\n",
    "2. Counter(): 特殊字典\n",
    "3. zip(): 迭代list\n",
    "4. 雜湊表（Hash table，哈希表): 一種資料結構\n",
    "5. 生成器（generator): 是一種返回一個值的疊代器\n",
    "6. xrange(): py3.0 已與range()整合\n",
    "7. dict.get(key, default=None): \n",
    "    * 獲取查找鍵所對應的值\n",
    "    * 獲取兩層字典中的value\n",
    "8. 字串格式化: \n",
    "    * 4種方式\n",
    "    * 樣板字串(Template String): 防惡意使用者獲取密碼"
   ]
  },
  {
   "cell_type": "markdown",
   "metadata": {},
   "source": [
    "## 299. Bulls and Cows\n",
    "You are playing the following Bulls and Cows game with your friend: You write down a number and ask your friend to guess what the number is. Each time your friend makes a guess, you provide a hint that indicates how many digits in said guess match your secret number exactly in both digit and position (called \"bulls\") and how many digits match the secret number but locate in the wrong position (called \"cows\"). Your friend will use successive guesses and hints to eventually derive the secret number.\n",
    "\n",
    "Write a function to return a hint according to the secret number and friend's guess, use A to indicate the bulls and B to indicate the cows. \n",
    "\n",
    "Please note that both secret number and friend's guess may contain duplicate digits."
   ]
  },
  {
   "cell_type": "markdown",
   "metadata": {},
   "source": [
    "Example 1:\n",
    "\n",
    "Input: secret = \"1807\", guess = \"7810\"\n",
    "\n",
    "Output: \"1A3B\"\n",
    "\n",
    "Explanation: 1 bull and 3 cows. The bull is 8, the cows are 0, 1 and 7.\n",
    "Example 2:\n",
    "\n",
    "Input: secret = \"1123\", guess = \"0111\"\n",
    "\n",
    "Output: \"1A1B\"\n",
    "\n",
    "Explanation: The 1st 1 in friend's guess is a bull, the 2nd or 3rd 1 is a cow.\n",
    "Note: You may assume that the secret number and your friend's guess only contain digits, and their lengths are always equal."
   ]
  },
  {
   "cell_type": "code",
   "execution_count": 13,
   "metadata": {},
   "outputs": [],
   "source": [
    "# try\n",
    "secret = \"1807\"\n",
    "guess = \"7810\""
   ]
  },
  {
   "cell_type": "code",
   "execution_count": 14,
   "metadata": {},
   "outputs": [
    {
     "data": {
      "text/plain": [
       "'1'"
      ]
     },
     "execution_count": 14,
     "metadata": {},
     "output_type": "execute_result"
    }
   ],
   "source": [
    "secret[0]"
   ]
  },
  {
   "cell_type": "code",
   "execution_count": 16,
   "metadata": {},
   "outputs": [
    {
     "data": {
      "text/plain": [
       "True"
      ]
     },
     "execution_count": 16,
     "metadata": {},
     "output_type": "execute_result"
    }
   ],
   "source": [
    "secret[1] == guess[1]"
   ]
  },
  {
   "cell_type": "code",
   "execution_count": 17,
   "metadata": {},
   "outputs": [
    {
     "data": {
      "text/plain": [
       "1"
      ]
     },
     "execution_count": 17,
     "metadata": {},
     "output_type": "execute_result"
    }
   ],
   "source": [
    "num_A = 0\n",
    "num_A += 1\n",
    "num_A"
   ]
  },
  {
   "cell_type": "markdown",
   "metadata": {},
   "source": [
    "### 處理能得到A的狀況"
   ]
  },
  {
   "cell_type": "code",
   "execution_count": 20,
   "metadata": {},
   "outputs": [
    {
     "name": "stdout",
     "output_type": "stream",
     "text": [
      "1\n"
     ]
    }
   ],
   "source": [
    "num_A = 0\n",
    "for i in range(len(secret)):\n",
    "    # 先處理能得到A的狀況，即位置對數字也對\n",
    "    #num_A = 0 應為全域變數在外面\n",
    "    if secret[i] == guess[i]:\n",
    "        num_A += 1\n",
    "print(num_A)\n",
    "        "
   ]
  },
  {
   "cell_type": "markdown",
   "metadata": {},
   "source": [
    "### 處理能得到B"
   ]
  },
  {
   "cell_type": "code",
   "execution_count": null,
   "metadata": {},
   "outputs": [],
   "source": []
  },
  {
   "cell_type": "markdown",
   "metadata": {},
   "source": [
    "# 法一"
   ]
  },
  {
   "cell_type": "code",
   "execution_count": 51,
   "metadata": {},
   "outputs": [
    {
     "name": "stdout",
     "output_type": "stream",
     "text": [
      "<generator object getHint.<locals>.<genexpr> at 0x0000016F2623F408>\n"
     ]
    },
    {
     "data": {
      "text/plain": [
       "'1A3B'"
      ]
     },
     "execution_count": 51,
     "metadata": {},
     "output_type": "execute_result"
    }
   ],
   "source": [
    "#class Solution:\n",
    "#def getHint(self, secret: str, guess: str) -> str:\n",
    "from collections import Counter\n",
    "\n",
    "def getHint(secret: str, guess: str) -> str:\n",
    "    s, g = Counter(secret), Counter(guess)\n",
    "    print(i == j for i, j in zip(secret, guess))\n",
    "    \n",
    "    # 用 sum\n",
    "    a = sum(i == j for i, j in zip(secret, guess))\n",
    "    return '%sA%sB' % (a, sum((s & g).values()) - a)\n",
    "\n",
    "getHint(\"1807\", \"7810\")"
   ]
  },
  {
   "cell_type": "code",
   "execution_count": 50,
   "metadata": {},
   "outputs": [
    {
     "name": "stdout",
     "output_type": "stream",
     "text": [
      "<generator object getHint.<locals>.<genexpr> at 0x0000016F2623F408>\n"
     ]
    },
    {
     "data": {
      "text/plain": [
       "'1A3B'"
      ]
     },
     "execution_count": 50,
     "metadata": {},
     "output_type": "execute_result"
    }
   ],
   "source": [
    "# Test\n",
    "getHint(\"1807\", \"7810\")"
   ]
  },
  {
   "cell_type": "markdown",
   "metadata": {},
   "source": [
    "## Counter()\n",
    "counter 是一種特殊的字典，主要方便用來計數，key 是要計數的 item，value 儲存的是個數。"
   ]
  },
  {
   "cell_type": "code",
   "execution_count": 2,
   "metadata": {},
   "outputs": [
    {
     "data": {
      "text/plain": [
       "Counter({'h': 1, 'e': 1, 'l': 3, 'o': 2, ',': 1, 'w': 1, 'r': 1, 'd': 1})"
      ]
     },
     "execution_count": 2,
     "metadata": {},
     "output_type": "execute_result"
    }
   ],
   "source": [
    "from collections import Counter\n",
    "c = Counter('hello,world')\n",
    "c\n",
    "#Counter({'l': 3, 'o': 2, 'e': 1, 'd': 1, 'h': 1, ',': 1, 'r': 1, 'w': 1})"
   ]
  },
  {
   "cell_type": "code",
   "execution_count": 38,
   "metadata": {},
   "outputs": [
    {
     "data": {
      "text/plain": [
       "Counter({'a': 3, 'b': 4})"
      ]
     },
     "execution_count": 38,
     "metadata": {},
     "output_type": "execute_result"
    }
   ],
   "source": [
    "AA = Counter(a=3, b=4) # a有3個，b有4個\n",
    "AA"
   ]
  },
  {
   "cell_type": "code",
   "execution_count": 3,
   "metadata": {},
   "outputs": [
    {
     "data": {
      "text/plain": [
       "Counter({'a': 4, 'b': 2})"
      ]
     },
     "execution_count": 3,
     "metadata": {},
     "output_type": "execute_result"
    }
   ],
   "source": [
    "b = Counter({'a': 4, 'b': 2})\n",
    "b"
   ]
  },
  {
   "cell_type": "code",
   "execution_count": 19,
   "metadata": {},
   "outputs": [
    {
     "name": "stdout",
     "output_type": "stream",
     "text": [
      "<itertools.chain object at 0x0000016F261AA0F0>\n",
      "aaaaabbbbcccdde\n",
      "5\n"
     ]
    }
   ],
   "source": [
    "c = Counter('abcdeabcdabcaba')\n",
    "print(c.elements())\n",
    "print(''.join(sorted(c.elements())))\n",
    "print(c['a']) # 5"
   ]
  },
  {
   "cell_type": "code",
   "execution_count": 36,
   "metadata": {},
   "outputs": [
    {
     "data": {
      "text/plain": [
       "['a', 'b', 'c', 'd', 'e', 'h', 'i', 'l', 'm', 's', 'z']"
      ]
     },
     "execution_count": 36,
     "metadata": {},
     "output_type": "execute_result"
    }
   ],
   "source": [
    "sorted(c)   # list all unique elements"
   ]
  },
  {
   "cell_type": "code",
   "execution_count": 10,
   "metadata": {},
   "outputs": [
    {
     "data": {
      "text/plain": [
       "<itertools.chain at 0x16f2619b8d0>"
      ]
     },
     "execution_count": 10,
     "metadata": {},
     "output_type": "execute_result"
    }
   ],
   "source": [
    "c.elements()"
   ]
  },
  {
   "cell_type": "code",
   "execution_count": 30,
   "metadata": {},
   "outputs": [
    {
     "data": {
      "text/plain": [
       "0"
      ]
     },
     "execution_count": 30,
     "metadata": {},
     "output_type": "execute_result"
    }
   ],
   "source": [
    "del c['b'] # remove all 'b'\n",
    "c['b']  # now there are zero 'b'"
   ]
  },
  {
   "cell_type": "code",
   "execution_count": 37,
   "metadata": {},
   "outputs": [
    {
     "data": {
      "text/plain": [
       "[('a', 3), ('c', 1), ('b', 0)]"
      ]
     },
     "execution_count": 37,
     "metadata": {},
     "output_type": "execute_result"
    }
   ],
   "source": [
    "c = Counter('aaabbc')\n",
    "c['b'] -= 2  # reduce the count of 'b' by two\n",
    "c.most_common() # 'b' is still in, but its count is zero"
   ]
  },
  {
   "cell_type": "code",
   "execution_count": 35,
   "metadata": {},
   "outputs": [
    {
     "name": "stdout",
     "output_type": "stream",
     "text": [
      "2\n",
      "31\n",
      "Counter({'s': 2, 'i': 2, 'm': 2, 'a': 2, 'l': 1, 'b': 1})\n",
      "33\n"
     ]
    }
   ],
   "source": [
    "d = Counter('simsalabim')  # make another counter\n",
    "print(d['a'])\n",
    "\n",
    "print(c['a'])\n",
    "c.update(d) # add in the second counter\n",
    "print(d) # d is a Counter\n",
    "print(c['a'])"
   ]
  },
  {
   "cell_type": "code",
   "execution_count": 27,
   "metadata": {},
   "outputs": [
    {
     "name": "stdout",
     "output_type": "stream",
     "text": [
      "8\n",
      "8\n",
      "21\n",
      "8\n",
      "22\n",
      "8\n",
      "9\n"
     ]
    }
   ],
   "source": [
    "# ???\n",
    "for elem in 'shazam':    # update counts from an iterable\n",
    "    print(c[elem])\n",
    "    c[elem] += 1 \n",
    "print(c[elem])"
   ]
  },
  {
   "cell_type": "raw",
   "metadata": {},
   "source": [
    "# ERROR\n",
    "# AttributeError: 'str' object has no attribute 'elements'\n",
    "\n",
    "cc = 'abcdeabcdabcaba'\n",
    "cc.elements"
   ]
  },
  {
   "cell_type": "code",
   "execution_count": 28,
   "metadata": {},
   "outputs": [],
   "source": [
    "?Counter"
   ]
  },
  {
   "cell_type": "code",
   "execution_count": 4,
   "metadata": {},
   "outputs": [
    {
     "data": {
      "text/plain": [
       "[('1', 8),\n",
       " ('6', 6),\n",
       " ('2', 6),\n",
       " ('7', 5),\n",
       " ('4', 5),\n",
       " ('5', 5),\n",
       " ('9', 3),\n",
       " ('0', 3),\n",
       " ('8', 2),\n",
       " ('3', 1)]"
      ]
     },
     "execution_count": 4,
     "metadata": {},
     "output_type": "execute_result"
    }
   ],
   "source": [
    "numbers = \"67642192097348921647512014651027586741512651\"\n",
    "A = Counter(numbers)\n",
    "\n",
    "# 所有數字按照頻率排序。如果 most_common 接受了 int 引數 n，將返回頻率前n 的資料\n",
    "# 否則會返回所有的資料\n",
    "A.most_common()"
   ]
  },
  {
   "cell_type": "code",
   "execution_count": 31,
   "metadata": {},
   "outputs": [
    {
     "data": {
      "text/plain": [
       "<zip at 0x23163aceac8>"
      ]
     },
     "execution_count": 31,
     "metadata": {},
     "output_type": "execute_result"
    }
   ],
   "source": [
    "secret = \"1807\"\n",
    "guess = \"7810\"\n",
    "zip(secret, guess)"
   ]
  },
  {
   "cell_type": "code",
   "execution_count": 36,
   "metadata": {},
   "outputs": [
    {
     "data": {
      "text/plain": [
       "Counter({'1': 1, '8': 1, '0': 1, '7': 1})"
      ]
     },
     "execution_count": 36,
     "metadata": {},
     "output_type": "execute_result"
    }
   ],
   "source": [
    "Counter(secret)"
   ]
  },
  {
   "cell_type": "code",
   "execution_count": 53,
   "metadata": {},
   "outputs": [],
   "source": [
    "?zip"
   ]
  },
  {
   "cell_type": "markdown",
   "metadata": {},
   "source": [
    "##  zip() \n",
    "* zip([iterable, ...])\n",
    "* 参数说明：iterabl -- 一个或多个迭代器;\n",
    "\n",
    "函数用于将可迭代的对象作为参数，将对象中对应的元素打包成一个个元组，然后返回由这些元组组成的列表。"
   ]
  },
  {
   "cell_type": "code",
   "execution_count": 56,
   "metadata": {},
   "outputs": [
    {
     "data": {
      "text/plain": [
       "<zip at 0x16f262578c8>"
      ]
     },
     "execution_count": 56,
     "metadata": {},
     "output_type": "execute_result"
    }
   ],
   "source": [
    "# EX\n",
    "a = [1,2,3]\n",
    "b = [4,5,6]\n",
    "c = [4,5,6,7,8]\n",
    "zipped = zip(a,b)   # 打包为元组的列表\n",
    "# [(1, 4), (2, 5), (3, 6)]\n",
    "\n",
    "zip(a,c)    # 元素个数与最短的列表一致\n",
    "# [(1, 4), (2, 5), (3, 6)]\n",
    "\n",
    "zip(*zipped)    # 与 zip 相反，*zipped 可理解为解压，返回二维矩阵式\n",
    "# [(1, 2, 3), (4, 5, 6)]"
   ]
  },
  {
   "cell_type": "code",
   "execution_count": 48,
   "metadata": {},
   "outputs": [
    {
     "name": "stdout",
     "output_type": "stream",
     "text": [
      "<zip object at 0x0000016F26179508>\n",
      "1 7\n",
      "False\n",
      "8 8\n",
      "True\n",
      "0 1\n",
      "False\n",
      "7 0\n",
      "False\n"
     ]
    }
   ],
   "source": [
    "secret = \"1807\"\n",
    "guess = \"7810\"\n",
    "print(zip(secret, guess)) # 所以要用for迴圈，才能迭代印出來\n",
    "\n",
    "for i, j in zip(secret, guess):\n",
    "    print(i, j)\n",
    "    print(i == j)\n",
    "    #print(sum(i == j)) #ERROR: 'bool' object is not iterable\n",
    "    i == j"
   ]
  },
  {
   "cell_type": "markdown",
   "metadata": {},
   "source": [
    "# 法二"
   ]
  },
  {
   "cell_type": "code",
   "execution_count": 61,
   "metadata": {},
   "outputs": [],
   "source": [
    "#class Solution(object):\n",
    "# def getHint(self, secret, guess):\n",
    "\n",
    "def getHint(secret, guess):\n",
    "    bull, cow = 0, 0\n",
    "    s = {} # secret hashtable哈希表/雜湊表\n",
    "    g = {} # guess hashtable\n",
    "\n",
    "    # 處理能得到A的狀況\n",
    "    # 與我寫的一樣耶!!\n",
    "    #for i in xrange(len(secret)):\n",
    "    for i in range(len(secret)):\n",
    "        if secret[i] == guess[i]:\n",
    "            bull += 1\n",
    "        else:\n",
    "            s[secret[i]] = s.get(secret[i], 0) + 1\n",
    "            g[guess[i]] = g.get(guess[i], 0) + 1\n",
    "\n",
    "    for k in s:\n",
    "        if k in g:\n",
    "            cow += min(s[k], g[k])\n",
    "\n",
    "    return '{0}A{1}B'.format(bull, cow)"
   ]
  },
  {
   "cell_type": "code",
   "execution_count": 62,
   "metadata": {},
   "outputs": [
    {
     "data": {
      "text/plain": [
       "'1A3B'"
      ]
     },
     "execution_count": 62,
     "metadata": {},
     "output_type": "execute_result"
    }
   ],
   "source": [
    "# Test\n",
    "getHint(\"1807\", \"7810\")"
   ]
  },
  {
   "cell_type": "markdown",
   "metadata": {},
   "source": [
    "## 雜湊表（Hash table，哈希表）\n",
    "是根據鍵（Key）而直接查詢在記憶體儲存位置的資料結構。也就是說，它通過計算一個關於鍵值的函數，將所需查詢的數據映射到表中一個位置來查詢記錄，這加快了查找速度。這個映射函數稱做雜湊函數，存放記錄的數組稱做雜湊表。"
   ]
  },
  {
   "cell_type": "markdown",
   "metadata": {},
   "source": [
    "## 生成器（generator）\n",
    "* 參考: https://zh.m.wikibooks.org/zh-tw/Python/%E7%94%9F%E6%88%90%E5%99%A8\n",
    "\n",
    "是一種返回一個值的疊代器，每次從該疊代器取下一個值。\n",
    "\n",
    "生成器表達式(generator expression)類似列表解析（list comprehension）表達式的語法，只不過把列表解析的[]換成()，但是它返回的是一個生成器對象而不是列表對象。\n",
    "\n",
    "生成器其實是一種特殊的疊代器，不過這種疊代器更加優雅。它不需要疊代器的類一樣寫__iter__()和__next__()方法了，只需要一個yield關鍵字。 生成器一定是疊代器（反之不成立），因此任何生成器也是以一種惰性加載的模式生成值。"
   ]
  },
  {
   "cell_type": "markdown",
   "metadata": {},
   "source": [
    "# 在Python 3中，range()与xrange()合并为range( )\n",
    "## xrange()\n",
    "* 參考: https://www.runoob.com/python/python-func-xrange.html\n",
    "* 函数用法与 range 完全相同，所不同的是生成的不是一个数组，而是一个生成器。\n",
    "\n",
    "\n",
    "### 語法\n",
    "* xrange(stop)\n",
    "* xrange(start, stop[, step])\n",
    "\n",
    "### 参数说明：\n",
    "* start: 计数从 start 开始。默认是从 0 开始。例如 xrange(5) 等价于 xrange(0， 5)\n",
    "* stop: 计数到 stop 结束，但不包括 stop。例如：xrange(0， 5) 是 [0, 1, 2, 3, 4] 没有 5\n",
    "* step：步长，默认为1。例如：xrange(0， 5) 等价于 xrange(0, 5, 1)\n",
    "\n",
    "### 返回值\n",
    "返回生成器"
   ]
  },
  {
   "cell_type": "markdown",
   "metadata": {},
   "source": [
    "### 範例\n",
    "xrange(8)\n",
    "\n",
    "* list(xrange(8))\n",
    "#[0, 1, 2, 3, 4, 5, 6, 7]\n",
    "* range(8)                 # range 使用\n",
    "#[0, 1, 2, 3, 4, 5, 6, 7]\n",
    "\n",
    "xrange(3, 5)\n",
    "* list(xrange(3,5))\n",
    "#[3, 4]\n",
    "* range(3,5)               # 使用 range\n",
    "#[3, 4]\n",
    "\n",
    "xrange(0,6,2)             # 步长为 2\n",
    "* list(xrange(0,6,2))\n",
    "#[0, 2, 4]"
   ]
  },
  {
   "cell_type": "markdown",
   "metadata": {},
   "source": [
    "## dict.get(key, default=None)\n",
    "利用來得到要查找鍵所對應的值\n",
    "\n",
    "\n",
    "* key -- 這是要搜索在字典中的鍵。\n",
    "* default -- 這是要返回鍵不存在的的情況下默認值。\n",
    "\n",
    "Python 字典(Dictionary) get() 函数返回指定键的值，如果值不在字典中返回默认值。"
   ]
  },
  {
   "cell_type": "code",
   "execution_count": 69,
   "metadata": {},
   "outputs": [
    {
     "name": "stdout",
     "output_type": "stream",
     "text": [
      "Value : 27\n",
      "Value : Never\n",
      "his friend: None\n"
     ]
    }
   ],
   "source": [
    "#　範例\n",
    "dict = {'Name': 'Andy', 'Age': 27}\n",
    "\n",
    "print(\"Value : %s\" %  dict.get('Age'))\n",
    "print(\"Value : %s\" %  dict.get('Sex', \"Never\")) \n",
    "# \"Never\" 為默認值\n",
    "\n",
    "print(\"his friend: %s\" % dict.get('his friends'))\n",
    "# 沒特別設定，則 None 為默認值"
   ]
  },
  {
   "cell_type": "markdown",
   "metadata": {},
   "source": [
    "## 獲取兩層字典中的value"
   ]
  },
  {
   "cell_type": "code",
   "execution_count": 68,
   "metadata": {},
   "outputs": [
    {
     "name": "stdout",
     "output_type": "stream",
     "text": [
      "None\n",
      "**************************************************\n",
      "66\n"
     ]
    }
   ],
   "source": [
    "#如果字典里面嵌套有字典，无法通过 get() 直接获取 value:\n",
    "`\n",
    "dict_test = {'Name': 'Runoob', 'num':{'first_num': '66', 'second_num': '70'}, 'age': '15'}\n",
    "\n",
    "print(dict_test.get('first_num')) # None\n",
    "print('{:^50}'.format('*'*50))\n",
    "print(dict_test.get('num').get('first_num')) # 66"
   ]
  },
  {
   "cell_type": "code",
   "execution_count": 39,
   "metadata": {},
   "outputs": [
    {
     "data": {
      "text/plain": [
       "0"
      ]
     },
     "execution_count": 39,
     "metadata": {},
     "output_type": "execute_result"
    }
   ],
   "source": [
    "s = {}\n",
    "s.get(secret[i], 0)\n",
    "# 後面是若字典中查找不到對應字典的鍵，則回傳值預設為數值0"
   ]
  },
  {
   "cell_type": "markdown",
   "metadata": {},
   "source": [
    "## 字串格式化\n",
    "* 參考: https://blog.techbridge.cc/2019/05/03/how-to-use-python-string-format-method/\n",
    "* 四種方法:\n",
    "    * 舊式字串格式化（%）\n",
    "    * 新式字串格式化（format()）\n",
    "    * 字串插值 （Formatted String Literal）\n",
    "    * 樣板字串（Template String）"
   ]
  },
  {
   "cell_type": "markdown",
   "metadata": {},
   "source": [
    "### 1.舊式字串格式化（%）\n",
    "使用 % 格式是告訴 Python 直譯器要在那邊替換文字 text 並使用字串呈現。這就是所謂的舊式字串格式化（%s 是以字串輸出，%f 是以浮點數輸出、%d 是以十進位整數輸出）："
   ]
  },
  {
   "cell_type": "code",
   "execution_count": 82,
   "metadata": {},
   "outputs": [
    {
     "name": "stdout",
     "output_type": "stream",
     "text": [
      "hello, how are you\n",
      "==================================================\n",
      "hello Judy\n",
      "==================================================\n",
      "Ted's score is 95.500000.\n",
      "==================================================\n",
      "I am 23 years old.\n"
     ]
    }
   ],
   "source": [
    "#若是有多個變數要替換則使用 tuple 傳遞需要替代的內容值：\n",
    "print('hello, %s %s %s' % ('how', 'are', 'you'))\n",
    "# hello world go\n",
    "print('='*50)\n",
    "\n",
    "text = 'Judy'\n",
    "print('hello %s' % text)\n",
    "print('='*50)\n",
    "\n",
    "number = 95.5\n",
    "print(\"Ted's score is %f.\" % number)\n",
    "print('='*50)\n",
    "\n",
    "yrs = 23\n",
    "print(\"I am %d years old.\" % yrs)"
   ]
  },
  {
   "cell_type": "markdown",
   "metadata": {},
   "source": [
    "### 2.新式字串格式化（format()）\n",
    "其功能和舊式格式化相差無幾，但主要是捨去 % 讓字串格式化使用上可以更加正常、規律，可讀性也相對提升。"
   ]
  },
  {
   "cell_type": "code",
   "execution_count": 85,
   "metadata": {},
   "outputs": [
    {
     "name": "stdout",
     "output_type": "stream",
     "text": [
      "hey, man\n",
      "hello Jim, hello Ann\n",
      "17\n"
     ]
    }
   ],
   "source": [
    "#一般基本用法\n",
    "text = 'man'\n",
    "print('hey, {}'.format(text))\n",
    "\n",
    "\n",
    "#也可以使用名稱來指定變數變換順序\n",
    "name = 'Jim'\n",
    "text = 'Ann'\n",
    "\n",
    "print('hello {name}, hello {text}'.format(name=name, text=text))\n",
    "\n",
    "#若是希望把內容轉成十六進位的話可以使用 format spec 在 {} 新增 :x\n",
    "print('{:x}'.format(23))\n",
    "# 17"
   ]
  },
  {
   "cell_type": "markdown",
   "metadata": {},
   "source": [
    "### 3.字串插值 （Formatted String Literal）\n",
    "`新的字串插值語法相當強大的點是，可以在裡面嵌入任何 Python 的運算式`\n",
    "\n",
    "\n",
    "然而在 Python 3.6 又新增了格式字串字面值（Formatted String Literal）此一作法可以把 Python 運算式嵌入在字串(跟隔壁棚的 JavaScript ES6 字串模版有點像呀~~)"
   ]
  },
  {
   "cell_type": "code",
   "execution_count": 91,
   "metadata": {},
   "outputs": [
    {
     "name": "stdout",
     "output_type": "stream",
     "text": [
      "Hello, world\n",
      "==================================================\n",
      "x + y = 37\n",
      "==================================================\n",
      "17\n"
     ]
    }
   ],
   "source": [
    "text = 'world'\n",
    "print(f'Hello, {text}')\n",
    "print(\"=\"*50)\n",
    "\n",
    "x = 10\n",
    "y = 27\n",
    "print(f'x + y = {x + y}')\n",
    "print(\"=\"*50)\n",
    "\n",
    "#同樣，若是希望把內容轉成十六進位的話可以使用 format spec 在 {} 新增 :x：\n",
    "print('{:x}'.format(23))\n",
    "# 17"
   ]
  },
  {
   "cell_type": "markdown",
   "metadata": {},
   "source": [
    "但事實上其背後原理是由 Python 語法解析器把 f-string 字串插值格式字串轉成一連串的字串常數和運算式，最後結合成最終的字串。"
   ]
  },
  {
   "cell_type": "code",
   "execution_count": 96,
   "metadata": {},
   "outputs": [],
   "source": [
    "def hello_1(text, name):\n",
    "    return f'hello {text}, hello {name}'\n",
    "\n",
    "# 實際上 Python 會把它變成字串常數和變數（過程中有優化）\n",
    "\n",
    "def hello_2(text, name):\n",
    "    return 'hello ' + text + ', hello' + name"
   ]
  },
  {
   "cell_type": "markdown",
   "metadata": {},
   "source": [
    "## ???"
   ]
  },
  {
   "cell_type": "code",
   "execution_count": 99,
   "metadata": {},
   "outputs": [
    {
     "name": "stdout",
     "output_type": "stream",
     "text": [
      "--------------------------------------------------\n"
     ]
    },
    {
     "data": {
      "text/plain": [
       "'hello world, helloAction'"
      ]
     },
     "execution_count": 99,
     "metadata": {},
     "output_type": "execute_result"
    }
   ],
   "source": [
    "hello_1('world', 'Action')\n",
    "print(\"-\"*50)\n",
    "hello_2('world', 'Action')"
   ]
  },
  {
   "cell_type": "markdown",
   "metadata": {},
   "source": [
    "### 改參數名稱"
   ]
  },
  {
   "cell_type": "code",
   "execution_count": 100,
   "metadata": {},
   "outputs": [],
   "source": [
    "def hello_1(sth, Name):\n",
    "    return f'hello {text}, hello {name}'\n",
    "\n",
    "# 實際上 Python 會把它變成字串常數和變數（過程中有優化）\n",
    "\n",
    "def hello_2(text, name):\n",
    "    return 'hello ' + text + ', hello' + name"
   ]
  },
  {
   "cell_type": "code",
   "execution_count": 101,
   "metadata": {},
   "outputs": [
    {
     "name": "stdout",
     "output_type": "stream",
     "text": [
      "--------------------------------------------------\n"
     ]
    },
    {
     "data": {
      "text/plain": [
       "'hello world, helloAction'"
      ]
     },
     "execution_count": 101,
     "metadata": {},
     "output_type": "execute_result"
    }
   ],
   "source": [
    "hello_1('world', 'Action')\n",
    "print(\"-\"*50)\n",
    "hello_2('world', 'Action')"
   ]
  },
  {
   "cell_type": "markdown",
   "metadata": {},
   "source": [
    "### Still strange~??"
   ]
  },
  {
   "cell_type": "markdown",
   "metadata": {},
   "source": [
    "### 4.樣板字串（Template String）\n",
    "樣板字串（Template String）機制相對簡單，也比較安全。"
   ]
  },
  {
   "cell_type": "code",
   "execution_count": 102,
   "metadata": {},
   "outputs": [
    {
     "data": {
      "text/plain": [
       "'hello, morning'"
      ]
     },
     "execution_count": 102,
     "metadata": {},
     "output_type": "execute_result"
    }
   ],
   "source": [
    "# 需要從 Python 內建模組 string 引入\n",
    "from string import Template\n",
    "\n",
    "text = 'morning'\n",
    "t = Template('hello, $text')\n",
    "t.substitute(text=text)"
   ]
  },
  {
   "cell_type": "markdown",
   "metadata": {},
   "source": [
    "### 然而若是希望把內容轉成十六進位的話需要自己使用 hex 函式自己轉換"
   ]
  },
  {
   "cell_type": "code",
   "execution_count": 103,
   "metadata": {},
   "outputs": [
    {
     "data": {
      "text/plain": [
       "'hello, 0x17'"
      ]
     },
     "execution_count": 103,
     "metadata": {},
     "output_type": "execute_result"
    }
   ],
   "source": [
    "from string import Template\n",
    "\n",
    "number = 23\n",
    "t = Template('hello, $number')\n",
    "t.substitute(number=hex(number))\n",
    "# hello, 0x17"
   ]
  },
  {
   "cell_type": "markdown",
   "metadata": {},
   "source": [
    "由於其他的字串格式化功能較為強大，所以反而會造成惡意使用者輸入變數替換成字串時造成不可預期的錯誤（一般來說使用者的輸入都是不可信的，要進行過濾）。\n",
    "\n",
    "### 舉例來說惡意使用者可能可以透過字串格式的惡意輸入來獲取敏感資訊（例如：密碼、token、金鑰等）?；"
   ]
  },
  {
   "cell_type": "code",
   "execution_count": 104,
   "metadata": {},
   "outputs": [
    {
     "data": {
      "text/plain": [
       "'my-secret-token'"
      ]
     },
     "execution_count": 104,
     "metadata": {},
     "output_type": "execute_result"
    }
   ],
   "source": [
    "SECRET_TOKEN = 'my-secret-token'\n",
    "\n",
    "# Error func\n",
    "class Error:\n",
    "    def __init__(self):\n",
    "        pass\n",
    "\n",
    "err = Error()\n",
    "malicious_input = '{error.__init__.__globals__[SECRET_TOKEN]}'\n",
    "malicious_input.format(error=err)\n",
    "# my-secret-token"
   ]
  },
  {
   "cell_type": "markdown",
   "metadata": {},
   "source": [
    "沒想到，透過字串格式的方式竟然可以透過 __globals__ 字典取出我們的 SECRET_TOKEN，若是一不留神，很可能機密資料就洩漏出去。此時若是使用 Template String 則會發生錯誤，是比較安全的選項："
   ]
  },
  {
   "cell_type": "code",
   "execution_count": null,
   "metadata": {},
   "outputs": [],
   "source": []
  }
 ],
 "metadata": {
  "kernelspec": {
   "display_name": "Python 3",
   "language": "python",
   "name": "python3"
  },
  "language_info": {
   "codemirror_mode": {
    "name": "ipython",
    "version": 3
   },
   "file_extension": ".py",
   "mimetype": "text/x-python",
   "name": "python",
   "nbconvert_exporter": "python",
   "pygments_lexer": "ipython3",
   "version": "3.7.3"
  }
 },
 "nbformat": 4,
 "nbformat_minor": 4
}
