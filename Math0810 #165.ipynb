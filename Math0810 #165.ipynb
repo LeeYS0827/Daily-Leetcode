{
 "cells": [
  {
   "cell_type": "markdown",
   "metadata": {},
   "source": [
    "## 165.Compare Version Numbers\n",
    "(Medium)\n",
    "Compare two version numbers version1 and version2.\n",
    "If version1 > version2 return 1; if version1 < version2 return -1;otherwise return 0.\n",
    "\n",
    "You may assume that the version strings are non-empty and contain only digits and the . character.The character does not represent a decimal point and is used to separate number sequences.\n",
    "\n",
    "For instance, 2.5 is not \"two and a half\" or \"half way to version three\", it is the fifth second-level revision of the second first-level revision.\n",
    "\n",
    "You may assume the default revision number for each level of a version number to be 0. For example, version number 3.4 has a revision number of 3 and 4 for its first and second level revision number. Its third and fourth level revision number are both 0.\n",
    "\n",
    "(中文)\n",
    "比較兩個版本號，version1與version2，如果version1 > version2 回傳1，如果version2 > version1 回傳-1，相等的話回傳0。\n",
    "\n",
    "你可以假設版本號裡面只有數字跟\".\"，\".\"在這邊不是表示小數點而是用來分割子版本的序號。\n",
    "舉例來說，2.5不是數字2+0.5，而是第2.5版。"
   ]
  },
  {
   "cell_type": "markdown",
   "metadata": {},
   "source": [
    "## Note:\n",
    "Version strings are composed of numeric strings separated by dots . and this numeric strings may have leading zeroes.\n",
    "Version strings do not start or end with dots, and they will not be two consecutive dots."
   ]
  },
  {
   "cell_type": "markdown",
   "metadata": {},
   "source": [
    "## 法一： Split\n",
    "* 參考:\n",
    "* 思路: 版本是用.進行分割的，那麼我們也只能通過用.進行分割來判定版本號的大小。把版本號進行分割，需要找出一個較長的版本號的長度，把較短的版本的後面用0進行補齊"
   ]
  },
  {
   "cell_type": "markdown",
   "metadata": {},
   "source": [
    "### return\n",
    "* 跳出，全部都結束\n",
    "* 沒有用 return 回傳數值的函數，預設回傳 None，None就是表示什麼都沒有的物件 (object)"
   ]
  },
  {
   "cell_type": "code",
   "execution_count": 2,
   "metadata": {},
   "outputs": [],
   "source": [
    "#class Solution:\n",
    "#    def compareVersion(self, version1: str, version2: str) -> int:\n",
    "\n",
    "def compareVersion(version1, version2):\n",
    "    \"\"\"\n",
    "    :type version1: str\n",
    "    :type version2: str\n",
    "    :rtype: int\n",
    "    \"\"\"\n",
    "    v1_split = version1.split('.')\n",
    "    v2_split = version2.split('.')\n",
    "    v1_len, v2_len = len(v1_split), len(v2_split)\n",
    "    maxlen = max(v1_len, v2_len)\n",
    "    \n",
    "    for i in range(maxlen):\n",
    "        temp1, temp2 = 0, 0\n",
    "        if i < v1_len:\n",
    "            temp1 = int(v1_split[i])\n",
    "        \n",
    "        # 如果maxlen　<　v2_len，則就會false，那temp2就是初始值0，可視為補零的方法~~~\n",
    "        if i < v2_len:\n",
    "            temp2 = int(v2_split[i])\n",
    "            \n",
    "        if temp1 < temp2:\n",
    "                return -1\n",
    "            \n",
    "        elif temp1 > temp2:\n",
    "                return 1\n",
    "    return 0"
   ]
  },
  {
   "cell_type": "raw",
   "metadata": {},
   "source": [
    "Runtime: 28 ms, faster than 81.85% of Python3 online submissions for Compare Version Numbers.\n",
    "Memory Usage: 14 MB, less than 18.24% of Python3 online submissions for Compare Version Numbers."
   ]
  },
  {
   "cell_type": "markdown",
   "metadata": {},
   "source": [
    "## 法二: Generator\n",
    "* 參考: https://blog.csdn.net/coder_orz/article/details/51313015\n",
    "* 思路:用的是trick，先用生成器獲取version1和version2的清單集合，然後zip_longest，依次拼接兩個集合並轉換成兩兩集合，沒有的用0填充補值，再用zip回復原來的兩個集合，最後比較即可"
   ]
  },
  {
   "cell_type": "markdown",
   "metadata": {},
   "source": [
    "### itertools 迭代器庫\n",
    "* itertools中的函式大多是返回各種迭代器物件，其中很多函式的作用我們平時要寫很多程式碼才能達到，而在執行效率上反而更低，畢竟系統庫效率高。"
   ]
  },
  {
   "cell_type": "code",
   "execution_count": 8,
   "metadata": {},
   "outputs": [
    {
     "name": "stdout",
     "output_type": "stream",
     "text": [
      "[0, 1, 3, 6, 10, 15, 21, 28, 36, 45]\n"
     ]
    }
   ],
   "source": [
    "# itertools.accumulate: 累加\n",
    "import itertools\n",
    "x = itertools.accumulate(range(10))\n",
    "print(list(x))\n",
    "#[0, 1, 3, 6, 10, 15, 21, 28, 36, 45]"
   ]
  },
  {
   "cell_type": "markdown",
   "metadata": {},
   "source": [
    "### itertools.zip_longest:\n",
    "* 參考: Python Documentation https://docs.python.org/zh-cn/3/library/itertools.html\n",
    "* 創建一個反覆運算器，從每個可反覆運算物件中收集元素。如果可反覆運算物件的長度未對齊，將根據 fillvalue 填充缺失值。反覆運算持續到耗光最長的可反覆運算對象\n",
    "* 類似於zip(zip是以較短的為準)，**不過以較長的列表和迭代器的長度為準**"
   ]
  },
  {
   "cell_type": "code",
   "execution_count": 9,
   "metadata": {},
   "outputs": [
    {
     "name": "stdout",
     "output_type": "stream",
     "text": [
      "[(0, 0), (1, 1), (2, 2), (None, 3), (None, 4)]\n",
      "[(0, 0), (1, 1), (2, 2)]\n"
     ]
    }
   ],
   "source": [
    "x = itertools.zip_longest(range(3), range(5))\n",
    "y = zip(range(3), range(5))\n",
    "print(list(x))\n",
    "print(list(y))"
   ]
  },
  {
   "cell_type": "code",
   "execution_count": 13,
   "metadata": {},
   "outputs": [],
   "source": [
    "def compareVersion(version1, version2):\n",
    "    def getnext(s):\n",
    "        st, l = 0, len(s)\n",
    "        for i in range(l):\n",
    "            if s[i] == '.':\n",
    "                yield s[st:i]\n",
    "                st = i+1\n",
    "        yield s[st: l]\n",
    "\n",
    "    for i, j in itertools.zip_longest(getnext(version1), getnext(version2)):\n",
    "        print('i, j={}'.format([i, j]))\n",
    "        a, b = int(i) if i else 0, int(j) if j else 0\n",
    "        print('a, b={}'.format([a, b]))\n",
    "        if a > b: return 1\n",
    "        elif a < b: return -1\n",
    "        \n",
    "    # return是要把def結束，若在裡面就是結束for迴圈\n",
    "    return 0"
   ]
  },
  {
   "cell_type": "raw",
   "metadata": {},
   "source": [
    "Runtime: 28 ms, faster than 81.85% of Python3 online submissions for Compare Version Numbers.\n",
    "Memory Usage: 13.7 MB, less than 83.06% of Python3 online submissions for Compare Version Numbers."
   ]
  },
  {
   "cell_type": "raw",
   "metadata": {},
   "source": [
    "Example 1:\n",
    "\n",
    "Input: version1 = \"0.1\", version2 = \"1.1\"\n",
    "Output: -1"
   ]
  },
  {
   "cell_type": "code",
   "execution_count": 14,
   "metadata": {},
   "outputs": [
    {
     "name": "stdout",
     "output_type": "stream",
     "text": [
      "i, j=['0', '1']\n",
      "a, b=[0, 1]\n"
     ]
    },
    {
     "data": {
      "text/plain": [
       "-1"
      ]
     },
     "execution_count": 14,
     "metadata": {},
     "output_type": "execute_result"
    }
   ],
   "source": [
    "compareVersion(version1 = \"0.1\", version2 = \"1.1\")"
   ]
  },
  {
   "cell_type": "raw",
   "metadata": {},
   "source": [
    "Example 4:\n",
    "\n",
    "Input: version1 = \"1.01\", version2 = \"1.001\"\n",
    "Output: 0"
   ]
  },
  {
   "cell_type": "code",
   "execution_count": 15,
   "metadata": {},
   "outputs": [
    {
     "name": "stdout",
     "output_type": "stream",
     "text": [
      "i, j=['1', '1']\n",
      "a, b=[1, 1]\n",
      "i, j=['01', '001']\n",
      "a, b=[1, 1]\n"
     ]
    },
    {
     "data": {
      "text/plain": [
       "0"
      ]
     },
     "execution_count": 15,
     "metadata": {},
     "output_type": "execute_result"
    }
   ],
   "source": [
    "compareVersion(version1 = \"1.01\", version2 = \"1.001\")"
   ]
  },
  {
   "cell_type": "raw",
   "metadata": {},
   "source": [
    "Example 3:\n",
    "\n",
    "Input: version1 = \"7.5.2.4\", version2 = \"7.5.3\"\n",
    "Output: -1"
   ]
  },
  {
   "cell_type": "code",
   "execution_count": 16,
   "metadata": {},
   "outputs": [
    {
     "name": "stdout",
     "output_type": "stream",
     "text": [
      "i, j=['7', '7']\n",
      "a, b=[7, 7]\n",
      "i, j=['5', '5']\n",
      "a, b=[5, 5]\n",
      "i, j=['2', '3']\n",
      "a, b=[2, 3]\n"
     ]
    },
    {
     "data": {
      "text/plain": [
       "-1"
      ]
     },
     "execution_count": 16,
     "metadata": {},
     "output_type": "execute_result"
    }
   ],
   "source": [
    "compareVersion(version1 = \"7.5.2.4\", version2 = \"7.5.3\")"
   ]
  },
  {
   "cell_type": "code",
   "execution_count": null,
   "metadata": {},
   "outputs": [],
   "source": []
  }
 ],
 "metadata": {
  "kernelspec": {
   "display_name": "Python 3",
   "language": "python",
   "name": "python3"
  },
  "language_info": {
   "codemirror_mode": {
    "name": "ipython",
    "version": 3
   },
   "file_extension": ".py",
   "mimetype": "text/x-python",
   "name": "python",
   "nbconvert_exporter": "python",
   "pygments_lexer": "ipython3",
   "version": "3.7.3"
  }
 },
 "nbformat": 4,
 "nbformat_minor": 4
}
