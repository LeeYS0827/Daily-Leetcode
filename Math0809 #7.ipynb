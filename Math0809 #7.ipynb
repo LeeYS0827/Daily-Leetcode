{
 "cells": [
  {
   "cell_type": "markdown",
   "metadata": {},
   "source": [
    "# 內容\n",
    "1. 位元&儲存範圍\n",
    "2. 遇到 if 都要執行進行判斷"
   ]
  },
  {
   "cell_type": "markdown",
   "metadata": {},
   "source": [
    "## 7. Reverse Integer\n",
    "(Easy)\n",
    "* Given a 32-bit signed integer, reverse digits of an integer."
   ]
  },
  {
   "cell_type": "raw",
   "metadata": {},
   "source": [
    "Example 1:\n",
    "Input: 123\n",
    "Output: 321\n",
    "    \n",
    "Example 2:\n",
    "Input: -123\n",
    "Output: -321\n",
    "    \n",
    "Example 3:\n",
    "Input: 120\n",
    "Output: 21"
   ]
  },
  {
   "cell_type": "markdown",
   "metadata": {},
   "source": [
    "### Note:\n",
    "Assume we are dealing with an environment which could only store integers within the 32-bit signed integer range: [−231,  231 − 1]. For the purpose of this problem, assume that your function returns 0 when the reversed integer overflows.\n",
    "\n",
    "（假設我們的環境只能儲存 32 位有符號整數，其數值範圍是 [−2^31,  2^31 − 1]。根據這個假設，如果反轉後的整數溢位，則返回 0。）"
   ]
  },
  {
   "cell_type": "markdown",
   "metadata": {},
   "source": [
    "### 位元&儲存範圍\n",
    "* 參考: https://notfalse.net/18/range-of-bits"
   ]
  },
  {
   "cell_type": "markdown",
   "metadata": {},
   "source": [
    "## 法一\n",
    "* int -> str -> 加號\n",
    "\n",
    "### 遇到 if 都要執行進行判斷"
   ]
  },
  {
   "cell_type": "code",
   "execution_count": 8,
   "metadata": {},
   "outputs": [
    {
     "ename": "TypeError",
     "evalue": "'int' object is not subscriptable",
     "output_type": "error",
     "traceback": [
      "\u001b[1;31m---------------------------------------------------------------------------\u001b[0m",
      "\u001b[1;31mTypeError\u001b[0m                                 Traceback (most recent call last)",
      "\u001b[1;32m<ipython-input-8-12c1125c4a0c>\u001b[0m in \u001b[0;36m<module>\u001b[1;34m\u001b[0m\n\u001b[0;32m      1\u001b[0m \u001b[0mA\u001b[0m \u001b[1;33m=\u001b[0m \u001b[1;36m123\u001b[0m\u001b[1;33m\u001b[0m\u001b[1;33m\u001b[0m\u001b[0m\n\u001b[1;32m----> 2\u001b[1;33m \u001b[0mA\u001b[0m\u001b[1;33m[\u001b[0m\u001b[1;36m1\u001b[0m\u001b[1;33m]\u001b[0m\u001b[1;33m\u001b[0m\u001b[1;33m\u001b[0m\u001b[0m\n\u001b[0m",
      "\u001b[1;31mTypeError\u001b[0m: 'int' object is not subscriptable"
     ]
    }
   ],
   "source": [
    "A = 123\n",
    "A[1]"
   ]
  },
  {
   "cell_type": "code",
   "execution_count": 30,
   "metadata": {},
   "outputs": [
    {
     "name": "stdout",
     "output_type": "stream",
     "text": [
      "321\n"
     ]
    }
   ],
   "source": [
    "# TRY\n",
    "A = 123\n",
    "str(A)[1]\n",
    "\n",
    "# (0, 10, -1)印不出東西\n",
    "ans = ''\n",
    "for i in range(2, -1, -1):\n",
    "    #print(str(A)[i])\n",
    "    ans += str(A)[i]\n",
    "print(ans)"
   ]
  },
  {
   "cell_type": "code",
   "execution_count": 80,
   "metadata": {},
   "outputs": [],
   "source": [
    "# class Solution:\n",
    "#     def reverse(self, x: int) -> int:\n",
    "\n",
    "def reverse(x):\n",
    "    # 先管正數\n",
    "    ans = ''\n",
    "    if x >= 0:\n",
    "        x = str(x)\n",
    "        for i in range(len(x)-1, -1, -1):\n",
    "            ans += x[i]\n",
    "        ans = int(ans)\n",
    "    \n",
    "    # 若x為負數\n",
    "    else:\n",
    "        x = str(-x)\n",
    "        for i in range(len(x)-1, -1, -1):\n",
    "            ans += x[i]\n",
    "            #print(ans, type(ans))\n",
    "        ans = -1*int(ans)\n",
    "        \n",
    "    # 修正: 越界問題(Note)\n",
    "    # 遇到 if 都要進行判斷\n",
    "    if -2 **31 <= ans <= 2 **31:\n",
    "        return ans\n",
    "    else: \n",
    "        return 0\n",
    "\n",
    "### 下面條件要併在一起寫\n",
    "#     if int(x) >= 0:\n",
    "#         return int(ans)\n",
    "#     else:\n",
    "#         ans = -1*int(ans)\n",
    "#         return ans"
   ]
  },
  {
   "cell_type": "code",
   "execution_count": 78,
   "metadata": {},
   "outputs": [
    {
     "name": "stdout",
     "output_type": "stream",
     "text": [
      "321\n",
      "-321\n",
      "21\n"
     ]
    }
   ],
   "source": [
    "# TEST\n",
    "print(reverse(123))\n",
    "print(reverse(-123))\n",
    "print(reverse(120))"
   ]
  },
  {
   "cell_type": "markdown",
   "metadata": {},
   "source": [
    "* Status: Wrong Answer\n",
    "* 1027 / 1032 test cases passed.\n",
    "* 原因: **忽略Note的條件**"
   ]
  },
  {
   "cell_type": "markdown",
   "metadata": {},
   "source": [
    "### 修正後\n",
    "Runtime: 24 ms, faster than 97.83% of Python3 online submissions for Reverse Integer.\n",
    "\n",
    "Memory Usage: 13.8 MB, less than 67.91% of Python3 online submissions for Reverse Integer."
   ]
  },
  {
   "cell_type": "markdown",
   "metadata": {},
   "source": [
    "## 法二\n",
    "* 法一簡潔寫法"
   ]
  },
  {
   "cell_type": "code",
   "execution_count": 79,
   "metadata": {},
   "outputs": [],
   "source": [
    "def reverse(x):\n",
    "    if x >= 0:\n",
    "        ans = int(str(x)[::-1])\n",
    "    else:\n",
    "        # 先轉成正的，讓負號消失避免干擾，之後在加回來\n",
    "        ans = -int(str(-x)[::-1])#[::-1]: 全部都倒著數\n",
    "    return ans if -2 **31 <= ans <= 2**31-1 else 0"
   ]
  },
  {
   "cell_type": "code",
   "execution_count": null,
   "metadata": {},
   "outputs": [],
   "source": [
    "Runtime: 24 ms, faster than 97.83% of Python3 online submissions for Reverse Integer.\n",
    "Memory Usage: 14 MB, less than 5.06% of Python3 online submissions for Reverse Integer."
   ]
  },
  {
   "cell_type": "markdown",
   "metadata": {},
   "source": [
    "## 法三: 超級簡潔，善用布林值"
   ]
  },
  {
   "cell_type": "code",
   "execution_count": 96,
   "metadata": {},
   "outputs": [
    {
     "name": "stdout",
     "output_type": "stream",
     "text": [
      "False\n",
      "-1\n"
     ]
    }
   ],
   "source": [
    "x = -2\n",
    "print((x > 0))# 若進行運算 True = 1, False = 0\n",
    "print((x > 0) - (x < 0))"
   ]
  },
  {
   "cell_type": "code",
   "execution_count": 90,
   "metadata": {},
   "outputs": [],
   "source": [
    "def reverse(x):\n",
    "    s = (x > 0) - (x < 0)\n",
    "    print('s = {}'.format(s))\n",
    "    r = int(str(x*s)[::-1])\n",
    "    # (r < 2**31): 一樣是判斷式，若進行運算 True = 1, False = 0\n",
    "    return s*r * (r < 2**31)"
   ]
  },
  {
   "cell_type": "code",
   "execution_count": 91,
   "metadata": {},
   "outputs": [
    {
     "name": "stdout",
     "output_type": "stream",
     "text": [
      "s = 1\n",
      "321\n",
      "s = -1\n",
      "-321\n",
      "s = 1\n",
      "21\n"
     ]
    }
   ],
   "source": [
    "# TEST\n",
    "print(reverse(123))\n",
    "print(reverse(-123))\n",
    "print(reverse(120))"
   ]
  },
  {
   "cell_type": "raw",
   "metadata": {},
   "source": [
    "Runtime: 24 ms, faster than 97.83% of Python3 online submissions for Reverse Integer.\n",
    "Memory Usage: 13.8 MB, less than 78.30% of Python3 online submissions for Reverse Integer."
   ]
  },
  {
   "cell_type": "markdown",
   "metadata": {},
   "source": [
    "## 法四"
   ]
  },
  {
   "cell_type": "code",
   "execution_count": 82,
   "metadata": {},
   "outputs": [],
   "source": [
    "def reverse(x):\n",
    "    \"\"\"\n",
    "    :type x: int\n",
    "    :rtype: int\n",
    "    \"\"\"\n",
    "    if x == 0: \n",
    "        return 0\n",
    "    flag = 1\n",
    "    if x < 0:\n",
    "        flag = -1\n",
    "        x = -x\n",
    "    r = int(str(x)[::-1])\n",
    "\n",
    "    # 判斷是否越界\n",
    "    if flag == 1 and r <= 2147483647:\n",
    "        return r\n",
    "    elif flag == -1 and -r >= -2147483648:\n",
    "        return -r\n",
    "    \n",
    "    # 等於else\n",
    "    return 0"
   ]
  },
  {
   "cell_type": "raw",
   "metadata": {},
   "source": [
    "Runtime: 36 ms, faster than 58.83% of Python3 online submissions for Reverse Integer.\n",
    "Memory Usage: 14 MB, less than 11.40% of Python3 online submissions for Reverse Integer."
   ]
  }
 ],
 "metadata": {
  "kernelspec": {
   "display_name": "Python 3",
   "language": "python",
   "name": "python3"
  },
  "language_info": {
   "codemirror_mode": {
    "name": "ipython",
    "version": 3
   },
   "file_extension": ".py",
   "mimetype": "text/x-python",
   "name": "python",
   "nbconvert_exporter": "python",
   "pygments_lexer": "ipython3",
   "version": "3.7.3"
  }
 },
 "nbformat": 4,
 "nbformat_minor": 4
}
