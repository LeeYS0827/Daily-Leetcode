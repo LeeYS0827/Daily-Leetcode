{
 "cells": [
  {
   "cell_type": "markdown",
   "metadata": {},
   "source": [
    "# 內容\n",
    "1. find()函數 vs index()函數\n",
    "2. Str遍歷+切片\n",
    "3. KMP演算法"
   ]
  },
  {
   "cell_type": "markdown",
   "metadata": {},
   "source": [
    "## 28.Implement strStr()\n",
    "(Easy)\n",
    "* Implement strStr().\n",
    "* Return the index of the first occurrence of needle in haystack(大海撈針，haystack:稻草堆), or -1 if needle is not part of haystack.\n",
    "\n",
    "(中文)在haystack中找出needle第一次出現的位置，如果不存在，那麼就返回-1."
   ]
  },
  {
   "cell_type": "raw",
   "metadata": {},
   "source": [
    "Example 1:\n",
    "Input: haystack = \"hello\", needle = \"ll\"\n",
    "Output: 2\n",
    "\n",
    "Example 2:\n",
    "Input: haystack = \"aaaaa\", needle = \"bba\"\n",
    "Output: -1"
   ]
  },
  {
   "cell_type": "markdown",
   "metadata": {},
   "source": [
    "## 法一: find()函數\n",
    "* 參考: https://blog.csdn.net/fuxuemingzhu/article/details/79254558\n",
    "\n",
    "### find()函數:\n",
    "* 就是實現這個功能，如果找不到子串的話，**返回-1**\n",
    "\n",
    "### index()函數:\n",
    "* 會在找不到的時候**報錯**，這是與find()函數的區別"
   ]
  },
  {
   "cell_type": "code",
   "execution_count": 1,
   "metadata": {},
   "outputs": [],
   "source": [
    "def strStr(haystack, needle):\n",
    "    \"\"\"\n",
    "    :type haystack: str\n",
    "    :type needle: str\n",
    "    :rtype: int\n",
    "    \"\"\"\n",
    "    return haystack.find(needle)"
   ]
  },
  {
   "cell_type": "code",
   "execution_count": 4,
   "metadata": {},
   "outputs": [
    {
     "name": "stdout",
     "output_type": "stream",
     "text": [
      "2\n",
      "-1\n"
     ]
    }
   ],
   "source": [
    "# Test: Ex1\n",
    "print(strStr(haystack = \"hello\", needle = \"ll\"))\n",
    "\n",
    "# Test: Ex2\n",
    "print(strStr(haystack = \"aaaaa\", needle = \"bba\"))"
   ]
  },
  {
   "cell_type": "raw",
   "metadata": {},
   "source": [
    "Runtime: 40 ms, faster than 50.02% of Python3 online submissions for Implement strStr().\n",
    "Memory Usage: 14.1 MB, less than 29.48% of Python3 online submissions for Implement strStr()."
   ]
  },
  {
   "cell_type": "markdown",
   "metadata": {},
   "source": [
    "## 法二: 遍歷+切片\n",
    "* 即自己實現find()函數\n",
    "* 參考: https://blog.csdn.net/fuxuemingzhu/article/details/79254558\n",
    "* brutal force O(mn)，因為**兩層迴圈**去解決，**時間複雜度即O(mn)**"
   ]
  },
  {
   "cell_type": "code",
   "execution_count": 7,
   "metadata": {},
   "outputs": [
    {
     "name": "stdout",
     "output_type": "stream",
     "text": [
      "0\n",
      "1\n",
      "2\n",
      "3\n"
     ]
    }
   ],
   "source": [
    "for i in range(4):\n",
    "    print(i)"
   ]
  },
  {
   "cell_type": "markdown",
   "metadata": {},
   "source": [
    "### String切片 \n",
    "* str[:]  截取字符串中的一部分\n",
    "* 包含頭，不包括尾"
   ]
  },
  {
   "cell_type": "code",
   "execution_count": 14,
   "metadata": {},
   "outputs": [
    {
     "name": "stdout",
     "output_type": "stream",
     "text": [
      "0 2 he\n",
      "1 3 el\n",
      "2 4 ll\n",
      "3 5 lo\n"
     ]
    }
   ],
   "source": [
    "haystack = \"hello\"\n",
    "A, B = 5, 2\n",
    "for i in range(A - B + 1):\n",
    "    # haystack[i : i + B]: 切片成剛好是needle的長度\n",
    "    print(i, i+B, haystack[i : i + B])"
   ]
  },
  {
   "cell_type": "code",
   "execution_count": 21,
   "metadata": {},
   "outputs": [],
   "source": [
    "def strStr(haystack, needle):\n",
    "    \"\"\"\n",
    "    :type haystack: str\n",
    "    :type needle: str\n",
    "    :rtype: int\n",
    "    \"\"\"\n",
    "    A, B = len(haystack), len(needle)\n",
    "    # i的變動範圍是[0,A-b]閉區間\n",
    "    for i in range(A - B + 1):\n",
    "        if haystack[i : i + B] == needle:\n",
    "            return i\n",
    "        \n",
    "    # 若不符合上述條件，就直接回傳數值 -1\n",
    "    return -1"
   ]
  },
  {
   "cell_type": "code",
   "execution_count": 22,
   "metadata": {},
   "outputs": [
    {
     "name": "stdout",
     "output_type": "stream",
     "text": [
      "2\n",
      "-1\n"
     ]
    }
   ],
   "source": [
    "# Test: Ex1\n",
    "print(strStr(haystack = \"hello\", needle = \"ll\"))\n",
    "\n",
    "# Test: Ex2\n",
    "print(strStr(haystack = \"aaaaa\", needle = \"bba\"))"
   ]
  },
  {
   "cell_type": "markdown",
   "metadata": {},
   "source": [
    "Runtime: 48 ms, faster than 32.70% of Python3 online submissions for Implement strStr().\n",
    "Memory Usage: 14.1 MB, less than 20.52% of Python3 online submissions for Implement strStr()."
   ]
  },
  {
   "cell_type": "markdown",
   "metadata": {},
   "source": [
    "## 法三: KMP演算法\n",
    "* 參考: https://blog.csdn.net/coder_orz/article/details/51708389\n",
    "* 這是一個模式匹配問題，考慮KMP演算法，該演算法對於任何模式和目標序列，都可以在線性時間內完成匹配查找O(n+m)，而不會發生退化。"
   ]
  },
  {
   "cell_type": "markdown",
   "metadata": {},
   "source": [
    "### KMP算法詳解\n",
    "* 參考: https://medium.com/nlp-tsupei/kmp%E7%AE%97%E6%B3%95%E8%A9%B3%E8%A7%A3-1b1050a45850\n",
    "* 應用: 在NLP，除了使用ML&DL來分析文字以外，其實還有一大部分的時間，我們需要使用**字串相關演算法**來處理，比如說：字串比對、模式匹配、簡繁轉換等，這些任務可能是整個服務中會被大量頻繁使用到的，因此使用**低空間複雜度及低時間複雜度**的算法是非常重要的\n",
    "* KMP主要利用「次長的相同前綴後綴」來省下重複的比對過程"
   ]
  },
  {
   "cell_type": "code",
   "execution_count": 2,
   "metadata": {},
   "outputs": [],
   "source": [
    "def strStr(self, haystack, needle):\n",
    "    \"\"\"\n",
    "    :type haystack: str\n",
    "    :type needle: str\n",
    "    :rtype: int\n",
    "    \"\"\"\n",
    "    if not needle:\n",
    "        return 0\n",
    "    \n",
    "    # generate next array, need O(n) time\n",
    "    i, j, m, n = -1, 0, len(haystack), len(needle)\n",
    "    next = [-1] * n\n",
    "    while j < n-1:\n",
    "        #needle[k] stands for prefix前綴, neelde[j] stands for postfix後綴\n",
    "        if i == -1 or needle[i] == needle[j]:   \n",
    "            i, j = i + 1, j + 1\n",
    "            next[j] = i\n",
    "        else:\n",
    "            i = next[i]\n",
    "        \n",
    "    # check through the haystack using next, need O(m) time\n",
    "    i = j = 0\n",
    "    while i < m and j < n:\n",
    "        if j == -1 or haystack[i] == needle[j]:\n",
    "            i, j = i + 1, j + 1\n",
    "        else:\n",
    "            j = next[j]\n",
    "    if j == n:\n",
    "        return i - j\n",
    "    return -1"
   ]
  },
  {
   "cell_type": "raw",
   "metadata": {},
   "source": [
    "Runtime: 32 ms, faster than 76.21% of Python3 online submissions for Implement strStr().\n",
    "Memory Usage: 15.3 MB, less than 5.04% of Python3 online submissions for Implement strStr()."
   ]
  },
  {
   "cell_type": "code",
   "execution_count": null,
   "metadata": {},
   "outputs": [],
   "source": []
  }
 ],
 "metadata": {
  "kernelspec": {
   "display_name": "Python 3",
   "language": "python",
   "name": "python3"
  },
  "language_info": {
   "codemirror_mode": {
    "name": "ipython",
    "version": 3
   },
   "file_extension": ".py",
   "mimetype": "text/x-python",
   "name": "python",
   "nbconvert_exporter": "python",
   "pygments_lexer": "ipython3",
   "version": "3.7.3"
  }
 },
 "nbformat": 4,
 "nbformat_minor": 4
}
