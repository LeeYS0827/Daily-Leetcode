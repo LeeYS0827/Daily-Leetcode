{
 "cells": [
  {
   "cell_type": "markdown",
   "metadata": {},
   "source": [
    "# Array"
   ]
  },
  {
   "cell_type": "markdown",
   "metadata": {},
   "source": [
    "# 26 Remove Duplicates from Sorted Array\n",
    "Given a sorted array nums, remove the duplicates in-place such that each element appear only once and return the new length.\n",
    "Do not allocate extra space for another array, you must do this by modifying the input array in-place with O(1) extra memory."
   ]
  },
  {
   "cell_type": "raw",
   "metadata": {},
   "source": [
    "# 還要調整\n",
    "def removeDuplicates(self, nums: List[int]) -> int:\n",
    "\n",
    "    詳解\n",
    "    resultList = []\n",
    "    for item in nums:\n",
    "        if not item in resultList:\n",
    "            resultList.append(item)\n",
    "    return len(resultList)\n",
    "\n",
    "    final = set(nums)\n",
    "    return len(final)\n",
    "    array: 資料形態要一樣，速度快省空間 ['a', '1', 'b']\n",
    "    list: 可放不同類型的資料 ['a', 1, b]\n",
    "\n",
    "#法一:有過，但表現差\n",
    "        \"\"\"\n",
    "        :type nums: List[int]\n",
    "        :rtype: int\n",
    "        \"\"\"\n",
    "        # if not nums:\n",
    "        #     return 0\n",
    "        # length = 1\n",
    "        # i = 0\n",
    "        # for j in range(1, len(nums)):\n",
    "        #     if nums[j] != nums[i]:\n",
    "        #         i += 1\n",
    "        #         nums[j], nums[i] = nums[i], nums[j]\n",
    "        #         length += 1\n",
    "        # return length\n",
    "     \n",
    "        #法二: 效能好很多\n",
    "        A = nums\n",
    "        if not A:\n",
    "            return 0"
   ]
  },
  {
   "cell_type": "code",
   "execution_count": 30,
   "metadata": {},
   "outputs": [
    {
     "name": "stdout",
     "output_type": "stream",
     "text": [
      "1\n",
      "2\n",
      "3\n",
      "4\n",
      "5\n",
      "6\n",
      "7\n",
      "8\n",
      "9\n",
      "10\n"
     ]
    }
   ],
   "source": [
    "#print(range(1, 11)) 从 1 开始到 11\n",
    "for i in range(1, 11):\n",
    "    print(i)"
   ]
  },
  {
   "cell_type": "markdown",
   "metadata": {},
   "source": [
    "## ??"
   ]
  },
  {
   "cell_type": "code",
   "execution_count": 5,
   "metadata": {},
   "outputs": [
    {
     "name": "stdout",
     "output_type": "stream",
     "text": [
      "i is 1\n",
      "i is 2\n",
      "newTail is 1\n",
      "i is 2\n",
      "2\n",
      "[1, 2, 2]\n"
     ]
    },
    {
     "data": {
      "text/plain": [
       "2"
      ]
     },
     "execution_count": 5,
     "metadata": {},
     "output_type": "execute_result"
    }
   ],
   "source": [
    "# A是list\n",
    "def removeDuplicates(A):\n",
    "    newTail = 0\n",
    "\n",
    "    # 如果不是要從 0 開始選，那就要設成 range(1, len(A))\n",
    "    for i in range(1, len(A)):\n",
    "        print(f'i is {i}') #中括號內放變數值\n",
    "        \n",
    "        # 兩個數值不一樣時，長度　newTail　才要增加～～\n",
    "        if A[i] != A[newTail]:\n",
    "            #print(A[i])\n",
    "            newTail += 1\n",
    "            print(f'newTail is {newTail}')\n",
    "            print(f'i is {i}')\n",
    "            A[newTail] = A[i]\n",
    "            print(A[newTail])\n",
    "            print(A)\n",
    "\n",
    "    return newTail + 1 # 要輸出的答案\n",
    "    \n",
    "removeDuplicates([1,1,2]) #2\n",
    "#removeDuplicates([0,0,1,1,1,2,2,3,3,4]) #5\n",
    "#removeDuplicates([1,3,2])"
   ]
  },
  {
   "cell_type": "code",
   "execution_count": 9,
   "metadata": {},
   "outputs": [
    {
     "name": "stdout",
     "output_type": "stream",
     "text": [
      "5\n"
     ]
    }
   ],
   "source": [
    "A = None\n",
    "if not A:\n",
    "    # if not None = True\n",
    "    \n",
    "    # Error SyntaxError: 'return' outside function\n",
    "    # 原因是return只能写在def函数里面\n",
    "    print(5)"
   ]
  },
  {
   "cell_type": "markdown",
   "metadata": {},
   "source": [
    "## Logic: if not"
   ]
  },
  {
   "cell_type": "code",
   "execution_count": 19,
   "metadata": {},
   "outputs": [
    {
     "name": "stdout",
     "output_type": "stream",
     "text": [
      "1\n"
     ]
    }
   ],
   "source": [
    "A = [1, 2, 3]\n",
    "if not A:\n",
    "    # 不是 A，就會印出 0\n",
    "    print(0)\n",
    "else:\n",
    "    print(1)\n",
    "    \n",
    "# 但因為在for-loop外，A為全域變數 → 所以就是用 A 下去跑 for迴圈"
   ]
  },
  {
   "cell_type": "markdown",
   "metadata": {},
   "source": [
    "# 80 Remove Duplicates from Sorted Array II\n",
    "Given a sorted array nums, remove the duplicates in-place(就地刪除重複項) such that duplicates appeared at most twice and return the new length.\n",
    "Do not allocate extra space for another array, you must do this by modifying the input array in-place with O(1) extra memory.\n",
    "\n",
    "## 题目大意\n",
    "把有序数组中出现次数超过2的给过滤掉，原地操作。"
   ]
  },
  {
   "cell_type": "markdown",
   "metadata": {},
   "source": [
    "https://blog.csdn.net/fuxuemingzhu/article/details/82829709"
   ]
  },
  {
   "cell_type": "raw",
   "metadata": {},
   "source": [
    "Example 1:\n",
    "\n",
    "Given nums = [1,1,1,2,2,3],\n",
    "\n",
    "Your function should return length = 5, with the first five elements of nums being 1, 1, 2, 2 and 3 respectively.\n",
    "\n",
    "It doesn't matter what you leave beyond the returned length."
   ]
  },
  {
   "cell_type": "raw",
   "metadata": {},
   "source": [
    "Example 2:\n",
    "\n",
    "Given nums = [0,0,1,1,1,1,2,3,3],\n",
    "\n",
    "Your function should return length = 7, with the first seven elements of nums being modified to 0, 0, 1, 1, 2, 3 and 3 respectively.\n",
    "\n",
    "It doesn't matter what values are set beyond the returned length."
   ]
  },
  {
   "cell_type": "markdown",
   "metadata": {},
   "source": [
    "# ??"
   ]
  },
  {
   "cell_type": "markdown",
   "metadata": {},
   "source": [
    "## 解题方法\n",
    "1. 看到原地操作一般会想到指针，这个题目需要双指针。\n",
    "刚开始想的双指针的操作方式是从两头向中间遍历，这样一想，发现后面的数字会被交换到前面去，这样就没法判断后面的数字出现的次数了。\n",
    "\n",
    "2. 注意到题目是有序的，这个题正确的做法是从前面开始，一个快指针对所有的数字进行遍历，另外一个慢指针指向了不满足题目要求的第一个位置。这样当遍历到一个新的数字而且这个新的数字和慢指针指向的前两个数字相同时，把它交换到这个不满足的位置，然后两个指针同时右移即可。\n",
    "\n",
    "3. 时间复杂度是O(N)，空间复杂度是O(1).\n",
    "\n",
    "#### 版权声明：本文为CSDN博主「负雪明烛」的原创文章，遵循 CC 4.0 BY-SA 版权协议，转载请附上原文出处链接及本声明。原文链接：https://blog.csdn.net/fuxuemingzhu/java/article/details/82829709"
   ]
  },
  {
   "cell_type": "code",
   "execution_count": 12,
   "metadata": {},
   "outputs": [
    {
     "name": "stdout",
     "output_type": "stream",
     "text": [
      "0\n",
      "n is 0\n",
      "nums[i-2] is 3\n",
      "0 0\n",
      "0\n",
      "n is 0\n",
      "nums[i-2] is 3\n",
      "0 0\n",
      "1\n",
      "n is 1\n",
      "nums[i-2] is 0\n",
      "1 1\n",
      "1\n",
      "n is 1\n",
      "nums[i-2] is 0\n",
      "1 1\n",
      "1\n",
      "n is 1\n",
      "nums[i-2] is 1\n",
      "1\n",
      "n is 1\n",
      "nums[i-2] is 1\n",
      "2\n",
      "n is 2\n",
      "nums[i-2] is 1\n",
      "2 2\n",
      "3\n",
      "n is 3\n",
      "nums[i-2] is 1\n",
      "3 3\n",
      "3\n",
      "n is 3\n",
      "nums[i-2] is 2\n",
      "3 3\n"
     ]
    },
    {
     "data": {
      "text/plain": [
       "7"
      ]
     },
     "execution_count": 12,
     "metadata": {},
     "output_type": "execute_result"
    }
   ],
   "source": [
    "# 法一 (44 ms, faster than 98.72%) 每次速度都不一樣耶\n",
    "# nums: List[int] 就是代表 nums 是 list\n",
    "## 詳解\n",
    "def removeDuplicates(nums):\n",
    "    i = 0\n",
    "    for n in nums:\n",
    "        print(n) # n 是 nums列表裡面的迭代\n",
    "        print(f'n is {n}')\n",
    "        print(f'nums[i-2] is {nums[i-2]}')\n",
    "        if i < 2 or n > nums[i-2]:\n",
    "            nums[i] = n\n",
    "            print(nums[i], n)\n",
    "            i += 1\n",
    "    return i\n",
    "\n",
    "removeDuplicates(nums = [0,0,1,1,1,1,2,3,3]) #7  "
   ]
  },
  {
   "cell_type": "code",
   "execution_count": 15,
   "metadata": {},
   "outputs": [
    {
     "name": "stdout",
     "output_type": "stream",
     "text": [
      "0\n",
      "n is 0\n",
      "nums[i-2] is 3\n",
      "0 0\n",
      "0\n",
      "n is 0\n",
      "nums[i-2] is 3\n",
      "0 0\n",
      "1\n",
      "n is 1\n",
      "nums[i-2] is 0\n",
      "1 1\n",
      "1\n",
      "n is 1\n",
      "nums[i-2] is 0\n",
      "1 1\n",
      "1\n",
      "n is 1\n",
      "nums[i-2] is 1\n",
      "1\n",
      "n is 1\n",
      "nums[i-2] is 1\n",
      "2\n",
      "n is 2\n",
      "nums[i-2] is 1\n",
      "2 2\n",
      "3\n",
      "n is 3\n",
      "nums[i-2] is 1\n",
      "3 3\n",
      "3\n",
      "n is 3\n",
      "nums[i-2] is 2\n",
      "3 3\n"
     ]
    },
    {
     "data": {
      "text/plain": [
       "7"
      ]
     },
     "execution_count": 15,
     "metadata": {},
     "output_type": "execute_result"
    }
   ],
   "source": [
    "#法二　(60 ms, faster than 23.11%)\n",
    "class Solution(object):\n",
    "    def removeDuplicates(self, nums):\n",
    "        tail = 0\n",
    "        for num in nums:\n",
    "            if tail < 2 or num != nums[tail - 1] or num != nums[tail - 2]:\n",
    "                nums[tail] = num\n",
    "                tail += 1\n",
    "        return tail\n",
    "    \n",
    "removeDuplicates(nums = [0,0,1,1,1,1,2,3,3]) #7  "
   ]
  },
  {
   "cell_type": "markdown",
   "metadata": {},
   "source": [
    "# 法三\n",
    "使用了更明显的双指针，left指针指向第一个要判断的位置，right指针指向后面的位置。判断right和left是否相等，直到right和left不等的时候，把后面的这个数字移到前面来即可。"
   ]
  },
  {
   "cell_type": "code",
   "execution_count": 18,
   "metadata": {},
   "outputs": [
    {
     "name": "stdout",
     "output_type": "stream",
     "text": [
      "0\n",
      "n is 0\n",
      "nums[i-2] is 3\n",
      "0 0\n",
      "0\n",
      "n is 0\n",
      "nums[i-2] is 3\n",
      "0 0\n",
      "1\n",
      "n is 1\n",
      "nums[i-2] is 0\n",
      "1 1\n",
      "1\n",
      "n is 1\n",
      "nums[i-2] is 0\n",
      "1 1\n",
      "1\n",
      "n is 1\n",
      "nums[i-2] is 1\n",
      "1\n",
      "n is 1\n",
      "nums[i-2] is 1\n",
      "2\n",
      "n is 2\n",
      "nums[i-2] is 1\n",
      "2 2\n",
      "3\n",
      "n is 3\n",
      "nums[i-2] is 1\n",
      "3 3\n",
      "3\n",
      "n is 3\n",
      "nums[i-2] is 2\n",
      "3 3\n"
     ]
    },
    {
     "data": {
      "text/plain": [
       "7"
      ]
     },
     "execution_count": 18,
     "metadata": {},
     "output_type": "execute_result"
    }
   ],
   "source": [
    "class Solution(object):\n",
    "    def removeDuplicates(self, nums):\n",
    "        \"\"\"\n",
    "        :type nums: List[int]\n",
    "        :rtype: int\n",
    "        \"\"\"\n",
    "        N = len(nums)\n",
    "        if N <= 1: return N\n",
    "        left, right = 0, 1\n",
    "        while right < N:\n",
    "            while right < N and nums[right] == nums[left]:\n",
    "                right += 1\n",
    "            left += 1\n",
    "            if right < N:\n",
    "                nums[left] = nums[right]\n",
    "        return left\n",
    "    \n",
    "removeDuplicates(nums = [0,0,1,1,1,1,2,3,3]) #7"
   ]
  },
  {
   "cell_type": "code",
   "execution_count": null,
   "metadata": {},
   "outputs": [],
   "source": []
  },
  {
   "cell_type": "code",
   "execution_count": 55,
   "metadata": {},
   "outputs": [
    {
     "data": {
      "text/plain": [
       "[0, 0, 1, 1, 1, 1, 2, 3, 3]"
      ]
     },
     "execution_count": 55,
     "metadata": {},
     "output_type": "execute_result"
    }
   ],
   "source": [
    "## Mine\n",
    "def removeDuplicates(nums):\n",
    "    newlist = [nums[0]]\n",
    "    #print(newlist)\n",
    "    for i in range(1, len(nums)):\n",
    "        # 要如何去掉重複\n",
    "        newlist.append(nums[i])\n",
    "        if newlist[i] = newlist[i+1] = newlist[i+2]:\n",
    "            \n",
    "#         for j in range(i+2, len(nums)):\n",
    "#             if nums[j] != nums[i]:\n",
    "#                 newlist.append(nums[j])\n",
    "    return newlist\n",
    "        \n",
    "        \n",
    "removeDuplicates(nums = [0,0,1,1,1,1,2,3,3]) #7"
   ]
  },
  {
   "cell_type": "markdown",
   "metadata": {},
   "source": [
    "## list的 append 方法"
   ]
  },
  {
   "cell_type": "code",
   "execution_count": 49,
   "metadata": {},
   "outputs": [
    {
     "ename": "TypeError",
     "evalue": "'int' object is not iterable",
     "output_type": "error",
     "traceback": [
      "\u001b[1;31m---------------------------------------------------------------------------\u001b[0m",
      "\u001b[1;31mTypeError\u001b[0m                                 Traceback (most recent call last)",
      "\u001b[1;32m<ipython-input-49-4e76f9649231>\u001b[0m in \u001b[0;36m<module>\u001b[1;34m\u001b[0m\n\u001b[0;32m      1\u001b[0m \u001b[0mA\u001b[0m \u001b[1;33m=\u001b[0m \u001b[1;33m[\u001b[0m\u001b[1;36m1\u001b[0m\u001b[1;33m,\u001b[0m \u001b[1;36m2\u001b[0m\u001b[1;33m,\u001b[0m \u001b[1;36m3\u001b[0m\u001b[1;33m]\u001b[0m\u001b[1;33m\u001b[0m\u001b[1;33m\u001b[0m\u001b[0m\n\u001b[1;32m----> 2\u001b[1;33m \u001b[0mA\u001b[0m \u001b[1;33m=\u001b[0m \u001b[0mA\u001b[0m \u001b[1;33m+\u001b[0m \u001b[0mlist\u001b[0m\u001b[1;33m(\u001b[0m\u001b[1;36m1\u001b[0m\u001b[1;33m)\u001b[0m\u001b[1;33m\u001b[0m\u001b[1;33m\u001b[0m\u001b[0m\n\u001b[0m\u001b[0;32m      3\u001b[0m \u001b[0mA\u001b[0m\u001b[1;33m\u001b[0m\u001b[1;33m\u001b[0m\u001b[0m\n",
      "\u001b[1;31mTypeError\u001b[0m: 'int' object is not iterable"
     ]
    }
   ],
   "source": [
    "#Error\n",
    "A = [1, 2, 3]\n",
    "A = A + list(1)\n",
    "A"
   ]
  },
  {
   "cell_type": "code",
   "execution_count": 52,
   "metadata": {},
   "outputs": [
    {
     "data": {
      "text/plain": [
       "[1, 2, 3, 5]"
      ]
     },
     "execution_count": 52,
     "metadata": {},
     "output_type": "execute_result"
    }
   ],
   "source": [
    "B = [1, 2, 3]\n",
    "B.append(5)\n",
    "B"
   ]
  },
  {
   "cell_type": "code",
   "execution_count": 51,
   "metadata": {},
   "outputs": [
    {
     "data": {
      "text/plain": [
       "['1']"
      ]
     },
     "execution_count": 51,
     "metadata": {},
     "output_type": "execute_result"
    }
   ],
   "source": [
    "# try\n",
    "a = 1\n",
    "a = \n",
    "a = list(str(a))\n",
    "a"
   ]
  },
  {
   "cell_type": "markdown",
   "metadata": {},
   "source": []
  },
  {
   "cell_type": "code",
   "execution_count": null,
   "metadata": {},
   "outputs": [],
   "source": []
  }
 ],
 "metadata": {
  "kernelspec": {
   "display_name": "Python 3",
   "language": "python",
   "name": "python3"
  },
  "language_info": {
   "codemirror_mode": {
    "name": "ipython",
    "version": 3
   },
   "file_extension": ".py",
   "mimetype": "text/x-python",
   "name": "python",
   "nbconvert_exporter": "python",
   "pygments_lexer": "ipython3",
   "version": "3.7.3"
  }
 },
 "nbformat": 4,
 "nbformat_minor": 2
}
